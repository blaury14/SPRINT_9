{
 "cells": [
  {
   "cell_type": "markdown",
   "metadata": {},
   "source": [
    "# Hola Bastian!\n",
    "\n",
    "Mi nombre es David Bautista, soy code reviewer de TripleTen y voy a revisar el proyecto que acabas de desarrollar.\n",
    "\n",
    "Cuando vea un error la primera vez, lo señalaré. Deberás encontrarlo y arreglarlo. La intención es que te prepares para un espacio real de trabajo. En un trabajo, el líder de tu equipo hará lo mismo. Si no puedes solucionar el error, te daré más información en la próxima ocasión.\n",
    "\n",
    "Encontrarás mis comentarios más abajo - **por favor, no los muevas, no los modifiques ni los borres.**\n",
    "\n",
    "¿Cómo lo voy a hacer? Voy a leer detenidamente cada una de las implementaciones que has llevado a cabo para cumplir con lo solicitado. Verás los comentarios de esta forma:\n",
    "\n",
    "\n",
    "<div class=\"alert alert-block alert-success\">\n",
    "<b>Comentario del revisor</b> <a class=\"tocSkip\"></a>\n",
    "    \n",
    "Si todo está perfecto.\n",
    "</div>\n",
    "\n",
    "\n",
    "<div class=\"alert alert-block alert-warning\">\n",
    "<b>Comentario del revisor</b> <a class=\"tocSkip\"></a>\n",
    "    \n",
    "Si tu código está bien pero se puede mejorar o hay algún detalle que le hace falta.\n",
    "</div>\n",
    "\n",
    "\n",
    "<div class=\"alert alert-block alert-danger\">\n",
    "    \n",
    "<b>Comentario del revisor</b> <a class=\"tocSkip\"></a>\n",
    "    \n",
    "    \n",
    "Si de pronto hace falta algo o existe algún problema con tu código o conclusiones.\n",
    "</div>\n",
    "\n",
    "\n",
    "Puedes responderme de esta forma: \n",
    "\n",
    "<div class=\"alert alert-block alert-info\">\n",
    "<b>Respuesta del estudiante</b> <a class=\"tocSkip\"></a>\n",
    "</div\n",
    "\n",
    "¡Empecemos!"
   ]
  },
  {
   "cell_type": "markdown",
   "metadata": {},
   "source": [
    "<div class=\"alert alert-block alert-danger\">\n",
    "<b>Comentario del revisor</b> <a class=\"tocSkip\"></a>\n",
    "    \n",
    "# Comentario General\n",
    "    \n",
    "~~Hola, Bastian, te felicito por el desarrollo del proyecto hasta el momento. Ahora bien, he dejado diferentes comentarios para que puedas tenerlos en cuenta para la siguiente entrega. Fíjate que deje un comentario con el subtítulo **Comentario Importante** el cual es importante que tengas en cuenta para que continuemos con la revisión del proyecto.~~\n",
    "</div>\n",
    "\n",
    "<div class=\"alert alert-block alert-success\">\n",
    "<b>Comentario del revisor</b> <a class=\"tocSkip\"></a>\n",
    "    \n",
    "# Comentario General #2\n",
    "    \n",
    "Hola, Bastian, te felicito por la culminación del proyecto. Muy buen trabajo.\n",
    "</div>"
   ]
  },
  {
   "cell_type": "markdown",
   "metadata": {},
   "source": [
    "# Análisis de Prioridad de Hipótesis y Test A/B para una Tienda en Línea"
   ]
  },
  {
   "cell_type": "markdown",
   "metadata": {},
   "source": [
    "En este proyecto, realizaremos un análisis exhaustivo para identificar y priorizar las hipótesis que pueden incrementar los ingresos de una tienda en línea. Utilizaremos los frameworks **ICE (Impact, Confidence, Effort)** y **RICE (Reach, Impact, Confidence, Effort)** para priorizar las hipótesis, y posteriormente analizaremos los resultados de un **test A/B** para evaluar su efectividad.\n",
    "\n",
    "A lo largo del proyecto, llevaremos a cabo las siguientes tareas:\n",
    "\n",
    "* **Preparación de Datos:** Cargaremos y limpiaremos los datasets necesarios para asegurar su precisión.\n",
    "* **Priorización de Hipótesis:** Aplicaremos los frameworks ICE y RICE para evaluar y ordenar las hipótesis por su potencial impacto.\n",
    "* **Análisis del Test A/B:** Representaremos y analizaremos métricas clave como ingresos acumulados, tamaño promedio de pedidos y tasas de conversión.\n",
    "* **Evaluación Estadística:** Utilizaremos pruebas estadísticas para validar las diferencias observadas entre los grupos de prueba.\n",
    "* **Conclusiones y Recomendaciones:** Basándonos en los resultados, proporcionaremos conclusiones claras y recomendaciones prácticas para optimizar los ingresos.\n",
    "\n",
    "Este análisis proporcionará una base sólida para tomar decisiones estratégicas informadas y maximizar el impacto positivo en los ingresos de la tienda en línea."
   ]
  },
  {
   "cell_type": "markdown",
   "metadata": {},
   "source": [
    "<div class=\"alert alert-block alert-success\">\n",
    "<b>Comentario del revisor</b> <a class=\"tocSkip\"></a>\n",
    "    \n",
    "Perfecto, muy buen trabajo con esta primera sección de introducción del proyecto. </div>"
   ]
  },
  {
   "cell_type": "markdown",
   "metadata": {},
   "source": [
    "# Preparación de Datos:"
   ]
  },
  {
   "cell_type": "code",
   "execution_count": 1,
   "metadata": {},
   "outputs": [],
   "source": [
    "# Importamos las bibliotecas necesarias\n",
    "import pandas as pd\n",
    "import numpy as np\n",
    "import matplotlib.pyplot as plt\n",
    "import seaborn as sns\n",
    "from scipy import stats\n",
    "import statsmodels.api as sm"
   ]
  },
  {
   "cell_type": "markdown",
   "metadata": {},
   "source": [
    "<div class=\"alert alert-block alert-success\">\n",
    "<b>Comentario del revisor</b> <a class=\"tocSkip\"></a>\n",
    "    \n",
    "Buen trabajo importando las librerías necesarias para el desarrollo del proyecto.\n",
    "</div>"
   ]
  },
  {
   "cell_type": "code",
   "execution_count": 2,
   "metadata": {},
   "outputs": [],
   "source": [
    "# Cargamos los datasets\n",
    "hypotheses = pd.read_csv('/datasets/hypotheses_us.csv', delimiter=';')\n",
    "orders = pd.read_csv('/datasets/orders_us.csv')\n",
    "visits = pd.read_csv('/datasets/visits_us.csv')\n"
   ]
  },
  {
   "cell_type": "markdown",
   "metadata": {},
   "source": [
    "<div class=\"alert alert-block alert-success\">\n",
    "<b>Comentario del revisor</b> <a class=\"tocSkip\"></a>\n",
    "    \n",
    "Perfecto, buen trabajo cargando los datos necesarios para el desarrollo del proyecto. </div>\n"
   ]
  },
  {
   "cell_type": "code",
   "execution_count": 3,
   "metadata": {},
   "outputs": [
    {
     "name": "stdout",
     "output_type": "stream",
     "text": [
      "Hypotheses:\n"
     ]
    },
    {
     "data": {
      "text/html": [
       "<div>\n",
       "<style scoped>\n",
       "    .dataframe tbody tr th:only-of-type {\n",
       "        vertical-align: middle;\n",
       "    }\n",
       "\n",
       "    .dataframe tbody tr th {\n",
       "        vertical-align: top;\n",
       "    }\n",
       "\n",
       "    .dataframe thead th {\n",
       "        text-align: right;\n",
       "    }\n",
       "</style>\n",
       "<table border=\"1\" class=\"dataframe\">\n",
       "  <thead>\n",
       "    <tr style=\"text-align: right;\">\n",
       "      <th></th>\n",
       "      <th>Hypothesis</th>\n",
       "      <th>Reach</th>\n",
       "      <th>Impact</th>\n",
       "      <th>Confidence</th>\n",
       "      <th>Effort</th>\n",
       "    </tr>\n",
       "  </thead>\n",
       "  <tbody>\n",
       "    <tr>\n",
       "      <th>0</th>\n",
       "      <td>Add two new channels for attracting traffic. T...</td>\n",
       "      <td>3</td>\n",
       "      <td>10</td>\n",
       "      <td>8</td>\n",
       "      <td>6</td>\n",
       "    </tr>\n",
       "    <tr>\n",
       "      <th>1</th>\n",
       "      <td>Launch your own delivery service. This will sh...</td>\n",
       "      <td>2</td>\n",
       "      <td>5</td>\n",
       "      <td>4</td>\n",
       "      <td>10</td>\n",
       "    </tr>\n",
       "    <tr>\n",
       "      <th>2</th>\n",
       "      <td>Add product recommendation blocks to the store...</td>\n",
       "      <td>8</td>\n",
       "      <td>3</td>\n",
       "      <td>7</td>\n",
       "      <td>3</td>\n",
       "    </tr>\n",
       "    <tr>\n",
       "      <th>3</th>\n",
       "      <td>Change the category structure. This will incre...</td>\n",
       "      <td>8</td>\n",
       "      <td>3</td>\n",
       "      <td>3</td>\n",
       "      <td>8</td>\n",
       "    </tr>\n",
       "    <tr>\n",
       "      <th>4</th>\n",
       "      <td>Change the background color on the main page. ...</td>\n",
       "      <td>3</td>\n",
       "      <td>1</td>\n",
       "      <td>1</td>\n",
       "      <td>1</td>\n",
       "    </tr>\n",
       "  </tbody>\n",
       "</table>\n",
       "</div>"
      ],
      "text/plain": [
       "                                          Hypothesis  Reach  Impact  \\\n",
       "0  Add two new channels for attracting traffic. T...      3      10   \n",
       "1  Launch your own delivery service. This will sh...      2       5   \n",
       "2  Add product recommendation blocks to the store...      8       3   \n",
       "3  Change the category structure. This will incre...      8       3   \n",
       "4  Change the background color on the main page. ...      3       1   \n",
       "\n",
       "   Confidence  Effort  \n",
       "0           8       6  \n",
       "1           4      10  \n",
       "2           7       3  \n",
       "3           3       8  \n",
       "4           1       1  "
      ]
     },
     "metadata": {},
     "output_type": "display_data"
    },
    {
     "name": "stdout",
     "output_type": "stream",
     "text": [
      "\n",
      "Orders:\n"
     ]
    },
    {
     "data": {
      "text/html": [
       "<div>\n",
       "<style scoped>\n",
       "    .dataframe tbody tr th:only-of-type {\n",
       "        vertical-align: middle;\n",
       "    }\n",
       "\n",
       "    .dataframe tbody tr th {\n",
       "        vertical-align: top;\n",
       "    }\n",
       "\n",
       "    .dataframe thead th {\n",
       "        text-align: right;\n",
       "    }\n",
       "</style>\n",
       "<table border=\"1\" class=\"dataframe\">\n",
       "  <thead>\n",
       "    <tr style=\"text-align: right;\">\n",
       "      <th></th>\n",
       "      <th>transactionId</th>\n",
       "      <th>visitorId</th>\n",
       "      <th>date</th>\n",
       "      <th>revenue</th>\n",
       "      <th>group</th>\n",
       "    </tr>\n",
       "  </thead>\n",
       "  <tbody>\n",
       "    <tr>\n",
       "      <th>0</th>\n",
       "      <td>3667963787</td>\n",
       "      <td>3312258926</td>\n",
       "      <td>2019-08-15</td>\n",
       "      <td>30.4</td>\n",
       "      <td>B</td>\n",
       "    </tr>\n",
       "    <tr>\n",
       "      <th>1</th>\n",
       "      <td>2804400009</td>\n",
       "      <td>3642806036</td>\n",
       "      <td>2019-08-15</td>\n",
       "      <td>15.2</td>\n",
       "      <td>B</td>\n",
       "    </tr>\n",
       "    <tr>\n",
       "      <th>2</th>\n",
       "      <td>2961555356</td>\n",
       "      <td>4069496402</td>\n",
       "      <td>2019-08-15</td>\n",
       "      <td>10.2</td>\n",
       "      <td>A</td>\n",
       "    </tr>\n",
       "    <tr>\n",
       "      <th>3</th>\n",
       "      <td>3797467345</td>\n",
       "      <td>1196621759</td>\n",
       "      <td>2019-08-15</td>\n",
       "      <td>155.1</td>\n",
       "      <td>B</td>\n",
       "    </tr>\n",
       "    <tr>\n",
       "      <th>4</th>\n",
       "      <td>2282983706</td>\n",
       "      <td>2322279887</td>\n",
       "      <td>2019-08-15</td>\n",
       "      <td>40.5</td>\n",
       "      <td>B</td>\n",
       "    </tr>\n",
       "  </tbody>\n",
       "</table>\n",
       "</div>"
      ],
      "text/plain": [
       "   transactionId   visitorId        date  revenue group\n",
       "0     3667963787  3312258926  2019-08-15     30.4     B\n",
       "1     2804400009  3642806036  2019-08-15     15.2     B\n",
       "2     2961555356  4069496402  2019-08-15     10.2     A\n",
       "3     3797467345  1196621759  2019-08-15    155.1     B\n",
       "4     2282983706  2322279887  2019-08-15     40.5     B"
      ]
     },
     "metadata": {},
     "output_type": "display_data"
    },
    {
     "name": "stdout",
     "output_type": "stream",
     "text": [
      "\n",
      "Visits:\n"
     ]
    },
    {
     "data": {
      "text/html": [
       "<div>\n",
       "<style scoped>\n",
       "    .dataframe tbody tr th:only-of-type {\n",
       "        vertical-align: middle;\n",
       "    }\n",
       "\n",
       "    .dataframe tbody tr th {\n",
       "        vertical-align: top;\n",
       "    }\n",
       "\n",
       "    .dataframe thead th {\n",
       "        text-align: right;\n",
       "    }\n",
       "</style>\n",
       "<table border=\"1\" class=\"dataframe\">\n",
       "  <thead>\n",
       "    <tr style=\"text-align: right;\">\n",
       "      <th></th>\n",
       "      <th>date</th>\n",
       "      <th>group</th>\n",
       "      <th>visits</th>\n",
       "    </tr>\n",
       "  </thead>\n",
       "  <tbody>\n",
       "    <tr>\n",
       "      <th>0</th>\n",
       "      <td>2019-08-01</td>\n",
       "      <td>A</td>\n",
       "      <td>719</td>\n",
       "    </tr>\n",
       "    <tr>\n",
       "      <th>1</th>\n",
       "      <td>2019-08-02</td>\n",
       "      <td>A</td>\n",
       "      <td>619</td>\n",
       "    </tr>\n",
       "    <tr>\n",
       "      <th>2</th>\n",
       "      <td>2019-08-03</td>\n",
       "      <td>A</td>\n",
       "      <td>507</td>\n",
       "    </tr>\n",
       "    <tr>\n",
       "      <th>3</th>\n",
       "      <td>2019-08-04</td>\n",
       "      <td>A</td>\n",
       "      <td>717</td>\n",
       "    </tr>\n",
       "    <tr>\n",
       "      <th>4</th>\n",
       "      <td>2019-08-05</td>\n",
       "      <td>A</td>\n",
       "      <td>756</td>\n",
       "    </tr>\n",
       "  </tbody>\n",
       "</table>\n",
       "</div>"
      ],
      "text/plain": [
       "         date group  visits\n",
       "0  2019-08-01     A     719\n",
       "1  2019-08-02     A     619\n",
       "2  2019-08-03     A     507\n",
       "3  2019-08-04     A     717\n",
       "4  2019-08-05     A     756"
      ]
     },
     "metadata": {},
     "output_type": "display_data"
    }
   ],
   "source": [
    "# Mostramos las primeras filas de cada dataset para verificar la carga\n",
    "print(\"Hypotheses:\")\n",
    "display(hypotheses.head())\n",
    "\n",
    "print(\"\\nOrders:\")\n",
    "display(orders.head())\n",
    "\n",
    "print(\"\\nVisits:\")\n",
    "display(visits.head())"
   ]
  },
  {
   "cell_type": "markdown",
   "metadata": {},
   "source": [
    "<div class=\"alert alert-block alert-success\">\n",
    "<b>Comentario del revisor</b> <a class=\"tocSkip\"></a>\n",
    "    \n",
    "Genial, buen trabajo desarrollando este primer vistaso a cada una de las tablas. </div>"
   ]
  },
  {
   "cell_type": "code",
   "execution_count": 4,
   "metadata": {},
   "outputs": [
    {
     "name": "stdout",
     "output_type": "stream",
     "text": [
      "Hypotheses Info:\n",
      "<class 'pandas.core.frame.DataFrame'>\n",
      "RangeIndex: 9 entries, 0 to 8\n",
      "Data columns (total 5 columns):\n",
      " #   Column      Non-Null Count  Dtype \n",
      "---  ------      --------------  ----- \n",
      " 0   Hypothesis  9 non-null      object\n",
      " 1   Reach       9 non-null      int64 \n",
      " 2   Impact      9 non-null      int64 \n",
      " 3   Confidence  9 non-null      int64 \n",
      " 4   Effort      9 non-null      int64 \n",
      "dtypes: int64(4), object(1)\n",
      "memory usage: 488.0+ bytes\n"
     ]
    },
    {
     "data": {
      "text/plain": [
       "None"
      ]
     },
     "metadata": {},
     "output_type": "display_data"
    },
    {
     "name": "stdout",
     "output_type": "stream",
     "text": [
      "Orders Info After Converting Dates:\n",
      "<class 'pandas.core.frame.DataFrame'>\n",
      "RangeIndex: 1197 entries, 0 to 1196\n",
      "Data columns (total 5 columns):\n",
      " #   Column         Non-Null Count  Dtype         \n",
      "---  ------         --------------  -----         \n",
      " 0   transactionId  1197 non-null   int64         \n",
      " 1   visitorId      1197 non-null   int64         \n",
      " 2   date           1197 non-null   datetime64[ns]\n",
      " 3   revenue        1197 non-null   float64       \n",
      " 4   group          1197 non-null   object        \n",
      "dtypes: datetime64[ns](1), float64(1), int64(2), object(1)\n",
      "memory usage: 46.9+ KB\n"
     ]
    },
    {
     "data": {
      "text/plain": [
       "None"
      ]
     },
     "metadata": {},
     "output_type": "display_data"
    },
    {
     "name": "stdout",
     "output_type": "stream",
     "text": [
      "Number of visitors in both groups: 58\n",
      "Visits Info After Converting Dates:\n",
      "<class 'pandas.core.frame.DataFrame'>\n",
      "RangeIndex: 62 entries, 0 to 61\n",
      "Data columns (total 3 columns):\n",
      " #   Column  Non-Null Count  Dtype         \n",
      "---  ------  --------------  -----         \n",
      " 0   date    62 non-null     datetime64[ns]\n",
      " 1   group   62 non-null     object        \n",
      " 2   visits  62 non-null     int64         \n",
      "dtypes: datetime64[ns](1), int64(1), object(1)\n",
      "memory usage: 1.6+ KB\n"
     ]
    },
    {
     "data": {
      "text/plain": [
       "None"
      ]
     },
     "metadata": {},
     "output_type": "display_data"
    }
   ],
   "source": [
    "# Preprocesar datos de hipótesis\n",
    "print(\"Hypotheses Info:\")\n",
    "display(hypotheses.info())\n",
    "\n",
    "# Preprocesar datos de órdenes\n",
    "orders['date'] = pd.to_datetime(orders['date'])\n",
    "print(\"Orders Info After Converting Dates:\")\n",
    "display(orders.info())\n",
    "\n",
    "# Verificar visitantes en ambos grupos\n",
    "duplicated_visitors = orders.groupby('visitorId')['group'].nunique()\n",
    "duplicated_visitors = duplicated_visitors[duplicated_visitors > 1].count()\n",
    "print(f\"Number of visitors in both groups: {duplicated_visitors}\")\n",
    "\n",
    "# Preprocesar datos de visitas\n",
    "visits['date'] = pd.to_datetime(visits['date'])\n",
    "print(\"Visits Info After Converting Dates:\")\n",
    "display(visits.info())"
   ]
  },
  {
   "cell_type": "markdown",
   "metadata": {},
   "source": [
    "<div class=\"alert alert-block alert-success\">\n",
    "<b>Comentario del revisor</b> <a class=\"tocSkip\"></a>\n",
    "    \n",
    "Genial, buen trabajo aplicando el método ``info()`` para explorar de manera mas profunda cada una de las tablas. </div>"
   ]
  },
  {
   "cell_type": "code",
   "execution_count": 5,
   "metadata": {},
   "outputs": [
    {
     "name": "stdout",
     "output_type": "stream",
     "text": [
      "Duplicados en orders: 0\n",
      "Duplicados en visits: 0\n",
      "Dimensiones de orders después de eliminar duplicados: (1197, 5)\n",
      "Dimensiones de visits después de eliminar duplicados: (62, 3)\n",
      "Valores nulos en orders:\n",
      " transactionId    0\n",
      "visitorId        0\n",
      "date             0\n",
      "revenue          0\n",
      "group            0\n",
      "dtype: int64\n",
      "Valores nulos en visits:\n",
      " date      0\n",
      "group     0\n",
      "visits    0\n",
      "dtype: int64\n",
      "Muestra de orders:\n"
     ]
    },
    {
     "data": {
      "text/html": [
       "<div>\n",
       "<style scoped>\n",
       "    .dataframe tbody tr th:only-of-type {\n",
       "        vertical-align: middle;\n",
       "    }\n",
       "\n",
       "    .dataframe tbody tr th {\n",
       "        vertical-align: top;\n",
       "    }\n",
       "\n",
       "    .dataframe thead th {\n",
       "        text-align: right;\n",
       "    }\n",
       "</style>\n",
       "<table border=\"1\" class=\"dataframe\">\n",
       "  <thead>\n",
       "    <tr style=\"text-align: right;\">\n",
       "      <th></th>\n",
       "      <th>transactionId</th>\n",
       "      <th>visitorId</th>\n",
       "      <th>date</th>\n",
       "      <th>revenue</th>\n",
       "      <th>group</th>\n",
       "    </tr>\n",
       "  </thead>\n",
       "  <tbody>\n",
       "    <tr>\n",
       "      <th>0</th>\n",
       "      <td>3667963787</td>\n",
       "      <td>3312258926</td>\n",
       "      <td>2019-08-15</td>\n",
       "      <td>30.4</td>\n",
       "      <td>B</td>\n",
       "    </tr>\n",
       "    <tr>\n",
       "      <th>1</th>\n",
       "      <td>2804400009</td>\n",
       "      <td>3642806036</td>\n",
       "      <td>2019-08-15</td>\n",
       "      <td>15.2</td>\n",
       "      <td>B</td>\n",
       "    </tr>\n",
       "    <tr>\n",
       "      <th>2</th>\n",
       "      <td>2961555356</td>\n",
       "      <td>4069496402</td>\n",
       "      <td>2019-08-15</td>\n",
       "      <td>10.2</td>\n",
       "      <td>A</td>\n",
       "    </tr>\n",
       "    <tr>\n",
       "      <th>3</th>\n",
       "      <td>3797467345</td>\n",
       "      <td>1196621759</td>\n",
       "      <td>2019-08-15</td>\n",
       "      <td>155.1</td>\n",
       "      <td>B</td>\n",
       "    </tr>\n",
       "    <tr>\n",
       "      <th>4</th>\n",
       "      <td>2282983706</td>\n",
       "      <td>2322279887</td>\n",
       "      <td>2019-08-15</td>\n",
       "      <td>40.5</td>\n",
       "      <td>B</td>\n",
       "    </tr>\n",
       "  </tbody>\n",
       "</table>\n",
       "</div>"
      ],
      "text/plain": [
       "   transactionId   visitorId       date  revenue group\n",
       "0     3667963787  3312258926 2019-08-15     30.4     B\n",
       "1     2804400009  3642806036 2019-08-15     15.2     B\n",
       "2     2961555356  4069496402 2019-08-15     10.2     A\n",
       "3     3797467345  1196621759 2019-08-15    155.1     B\n",
       "4     2282983706  2322279887 2019-08-15     40.5     B"
      ]
     },
     "metadata": {},
     "output_type": "display_data"
    },
    {
     "name": "stdout",
     "output_type": "stream",
     "text": [
      "Muestra de visits:\n"
     ]
    },
    {
     "data": {
      "text/html": [
       "<div>\n",
       "<style scoped>\n",
       "    .dataframe tbody tr th:only-of-type {\n",
       "        vertical-align: middle;\n",
       "    }\n",
       "\n",
       "    .dataframe tbody tr th {\n",
       "        vertical-align: top;\n",
       "    }\n",
       "\n",
       "    .dataframe thead th {\n",
       "        text-align: right;\n",
       "    }\n",
       "</style>\n",
       "<table border=\"1\" class=\"dataframe\">\n",
       "  <thead>\n",
       "    <tr style=\"text-align: right;\">\n",
       "      <th></th>\n",
       "      <th>date</th>\n",
       "      <th>group</th>\n",
       "      <th>visits</th>\n",
       "    </tr>\n",
       "  </thead>\n",
       "  <tbody>\n",
       "    <tr>\n",
       "      <th>0</th>\n",
       "      <td>2019-08-01</td>\n",
       "      <td>A</td>\n",
       "      <td>719</td>\n",
       "    </tr>\n",
       "    <tr>\n",
       "      <th>1</th>\n",
       "      <td>2019-08-02</td>\n",
       "      <td>A</td>\n",
       "      <td>619</td>\n",
       "    </tr>\n",
       "    <tr>\n",
       "      <th>2</th>\n",
       "      <td>2019-08-03</td>\n",
       "      <td>A</td>\n",
       "      <td>507</td>\n",
       "    </tr>\n",
       "    <tr>\n",
       "      <th>3</th>\n",
       "      <td>2019-08-04</td>\n",
       "      <td>A</td>\n",
       "      <td>717</td>\n",
       "    </tr>\n",
       "    <tr>\n",
       "      <th>4</th>\n",
       "      <td>2019-08-05</td>\n",
       "      <td>A</td>\n",
       "      <td>756</td>\n",
       "    </tr>\n",
       "  </tbody>\n",
       "</table>\n",
       "</div>"
      ],
      "text/plain": [
       "        date group  visits\n",
       "0 2019-08-01     A     719\n",
       "1 2019-08-02     A     619\n",
       "2 2019-08-03     A     507\n",
       "3 2019-08-04     A     717\n",
       "4 2019-08-05     A     756"
      ]
     },
     "metadata": {},
     "output_type": "display_data"
    }
   ],
   "source": [
    "# Verificar si hay duplicados en los datos\n",
    "print(\"Duplicados en orders:\", orders.duplicated().sum())\n",
    "print(\"Duplicados en visits:\", visits.duplicated().sum())\n",
    "\n",
    "# Verificar y eliminar filas duplicadas si es necesario\n",
    "orders = orders.drop_duplicates()\n",
    "visits = visits.drop_duplicates()\n",
    "\n",
    "# Verificar las dimensiones de los DataFrames después de eliminar duplicados\n",
    "print(\"Dimensiones de orders después de eliminar duplicados:\", orders.shape)\n",
    "print(\"Dimensiones de visits después de eliminar duplicados:\", visits.shape)\n",
    "\n",
    "# Verificar si hay valores nulos en los datos\n",
    "print(\"Valores nulos en orders:\\n\", orders.isnull().sum())\n",
    "print(\"Valores nulos en visits:\\n\", visits.isnull().sum())\n",
    "\n",
    "# Si hay valores nulos, proceder con su manejo (rellenado o eliminación)\n",
    "# En este caso, no debería haber valores nulos según la descripción inicial\n",
    "\n",
    "# Revisar y limpiar columnas innecesarias o incorrectamente alineadas\n",
    "orders = orders[['transactionId', 'visitorId', 'date', 'revenue', 'group']]\n",
    "visits = visits[['date', 'group', 'visits']]\n",
    "\n",
    "# Asegurar que las fechas estén correctamente formateadas\n",
    "orders['date'] = pd.to_datetime(orders['date'])\n",
    "visits['date'] = pd.to_datetime(visits['date'])\n",
    "\n",
    "# Mostrar una muestra de los datos para verificar la limpieza\n",
    "print(\"Muestra de orders:\")\n",
    "display(orders.head())\n",
    "print(\"Muestra de visits:\")\n",
    "display(visits.head())\n"
   ]
  },
  {
   "cell_type": "markdown",
   "metadata": {},
   "source": [
    "<div class=\"alert alert-block alert-success\">\n",
    "<b>Comentario del revisor</b> <a class=\"tocSkip\"></a>\n",
    "    \n",
    "Perfecto, buen trabajo con esta verificaicón de valores duplicados dentro de la tabla. </div>"
   ]
  },
  {
   "cell_type": "code",
   "execution_count": 6,
   "metadata": {},
   "outputs": [],
   "source": [
    "# Configuración de los gráficos\n",
    "sns.set(style=\"whitegrid\")\n",
    "plt.rcParams['figure.figsize'] = (10, 6)"
   ]
  },
  {
   "cell_type": "markdown",
   "metadata": {},
   "source": [
    "## Priorizar Hipótesis:"
   ]
  },
  {
   "cell_type": "markdown",
   "metadata": {},
   "source": [
    "En este proyecto, realizaremos un análisis exhaustivo para priorizar las hipótesis que podrían incrementar los ingresos de una tienda en línea. Para ello, aplicaremos dos reconocidos frameworks de priorización: ICE (Impact, Confidence, Effort) y RICE (Reach, Impact, Confidence, Effort).\n",
    "\n",
    "El objetivo principal de la priorización de hipótesis es identificar aquellas que ofrezcan el mayor potencial para mejorar los ingresos de la tienda con un uso eficiente de los recursos. Esta priorización es esencial porque:\n",
    "\n",
    "1. **Recursos Limitados:** La implementación de todas las hipótesis simultáneamente no es factible debido a la limitación de recursos como tiempo, dinero y personal. Priorizar ayudará a enfocar los esfuerzos en aquellas iniciativas que probablemente generen el mayor retorno sobre la inversión.\n",
    "\n",
    "2. **Impacto Potencial:** Evaluaremos las hipótesis utilizando el framework ICE, considerando el impacto directo de cada hipótesis, la confianza en que dicho impacto se materialice, y el esfuerzo necesario para implementarla. Esto permitirá identificar las hipótesis con la mayor relación beneficio/esfuerzo.\n",
    "\n",
    "3. **Alcance del Usuario:** Incluir el alcance (Reach) en el framework RICE permitirá evaluar cuántos usuarios se verán afectados por cada hipótesis. Esto es crucial porque una hipótesis con un alto impacto pero con un alcance limitado puede no ser tan efectiva como una con un impacto moderado pero que afecta a un gran número de usuarios.\n",
    "\n",
    "4. **Eficiencia en la Toma de Decisiones:** La priorización de hipótesis proporcionará un enfoque estructurado y cuantitativo para la toma de decisiones, permitiendo a los equipos de marketing y desarrollo asignar recursos de manera más eficiente y justificar sus decisiones ante los stakeholders.\n",
    "\n",
    "5. **Maximización de Resultados:** Implementar las hipótesis más prometedoras primero maximizará los resultados a corto plazo y proporcionará datos valiosos que pueden informar futuras decisiones. Este enfoque iterativo y basado en datos ayudará a ajustar y refinar estrategias continuamente.\n",
    "\n",
    "**Resultados Esperados**\n",
    "\n",
    "* **Framework ICE:** Evaluaremos las hipótesis en función de su impacto, confianza y esfuerzo. Las hipótesis con la mayor puntuación ICE serán aquellas que prometen un alto impacto con un nivel de esfuerzo razonable y alta confianza en los resultados.\n",
    "\n",
    "* **Framework RICE:** Al añadir el alcance del usuario al análisis, ajustaremos las prioridades. Las hipótesis que afecten a un mayor número de usuarios se identificarán como de mayor prioridad, ajustando la lista de prioridades generada por ICE.\n"
   ]
  },
  {
   "cell_type": "markdown",
   "metadata": {},
   "source": [
    "### Aplicar el Framework ICE"
   ]
  },
  {
   "cell_type": "code",
   "execution_count": 7,
   "metadata": {},
   "outputs": [
    {
     "name": "stdout",
     "output_type": "stream",
     "text": [
      "Hypotheses Prioritized by ICE:\n"
     ]
    },
    {
     "data": {
      "text/html": [
       "<div>\n",
       "<style scoped>\n",
       "    .dataframe tbody tr th:only-of-type {\n",
       "        vertical-align: middle;\n",
       "    }\n",
       "\n",
       "    .dataframe tbody tr th {\n",
       "        vertical-align: top;\n",
       "    }\n",
       "\n",
       "    .dataframe thead th {\n",
       "        text-align: right;\n",
       "    }\n",
       "</style>\n",
       "<table border=\"1\" class=\"dataframe\">\n",
       "  <thead>\n",
       "    <tr style=\"text-align: right;\">\n",
       "      <th></th>\n",
       "      <th>Hypothesis</th>\n",
       "      <th>ICE</th>\n",
       "    </tr>\n",
       "  </thead>\n",
       "  <tbody>\n",
       "    <tr>\n",
       "      <th>8</th>\n",
       "      <td>Launch a promotion that gives users discounts ...</td>\n",
       "      <td>16.200000</td>\n",
       "    </tr>\n",
       "    <tr>\n",
       "      <th>0</th>\n",
       "      <td>Add two new channels for attracting traffic. T...</td>\n",
       "      <td>13.333333</td>\n",
       "    </tr>\n",
       "    <tr>\n",
       "      <th>7</th>\n",
       "      <td>Add a subscription form to all the main pages....</td>\n",
       "      <td>11.200000</td>\n",
       "    </tr>\n",
       "    <tr>\n",
       "      <th>6</th>\n",
       "      <td>Show banners with current offers and sales on ...</td>\n",
       "      <td>8.000000</td>\n",
       "    </tr>\n",
       "    <tr>\n",
       "      <th>2</th>\n",
       "      <td>Add product recommendation blocks to the store...</td>\n",
       "      <td>7.000000</td>\n",
       "    </tr>\n",
       "    <tr>\n",
       "      <th>1</th>\n",
       "      <td>Launch your own delivery service. This will sh...</td>\n",
       "      <td>2.000000</td>\n",
       "    </tr>\n",
       "    <tr>\n",
       "      <th>5</th>\n",
       "      <td>Add a customer review page. This will increase...</td>\n",
       "      <td>1.333333</td>\n",
       "    </tr>\n",
       "    <tr>\n",
       "      <th>3</th>\n",
       "      <td>Change the category structure. This will incre...</td>\n",
       "      <td>1.125000</td>\n",
       "    </tr>\n",
       "    <tr>\n",
       "      <th>4</th>\n",
       "      <td>Change the background color on the main page. ...</td>\n",
       "      <td>1.000000</td>\n",
       "    </tr>\n",
       "  </tbody>\n",
       "</table>\n",
       "</div>"
      ],
      "text/plain": [
       "                                          Hypothesis        ICE\n",
       "8  Launch a promotion that gives users discounts ...  16.200000\n",
       "0  Add two new channels for attracting traffic. T...  13.333333\n",
       "7  Add a subscription form to all the main pages....  11.200000\n",
       "6  Show banners with current offers and sales on ...   8.000000\n",
       "2  Add product recommendation blocks to the store...   7.000000\n",
       "1  Launch your own delivery service. This will sh...   2.000000\n",
       "5  Add a customer review page. This will increase...   1.333333\n",
       "3  Change the category structure. This will incre...   1.125000\n",
       "4  Change the background color on the main page. ...   1.000000"
      ]
     },
     "metadata": {},
     "output_type": "display_data"
    }
   ],
   "source": [
    "# Aplicar el framework ICE\n",
    "hypotheses['ICE'] = (hypotheses['Impact'] * hypotheses['Confidence']) / hypotheses['Effort']\n",
    "hypotheses_ice_sorted = hypotheses.sort_values(by='ICE', ascending=False)\n",
    "\n",
    "# Mostrar las hipótesis ordenadas por ICE\n",
    "print(\"Hypotheses Prioritized by ICE:\")\n",
    "display(hypotheses_ice_sorted[['Hypothesis', 'ICE']])"
   ]
  },
  {
   "cell_type": "markdown",
   "metadata": {},
   "source": [
    "### Aplicar el Framework RICE"
   ]
  },
  {
   "cell_type": "code",
   "execution_count": 8,
   "metadata": {},
   "outputs": [
    {
     "name": "stdout",
     "output_type": "stream",
     "text": [
      "Hypotheses Prioritized by RICE:\n"
     ]
    },
    {
     "data": {
      "text/html": [
       "<div>\n",
       "<style scoped>\n",
       "    .dataframe tbody tr th:only-of-type {\n",
       "        vertical-align: middle;\n",
       "    }\n",
       "\n",
       "    .dataframe tbody tr th {\n",
       "        vertical-align: top;\n",
       "    }\n",
       "\n",
       "    .dataframe thead th {\n",
       "        text-align: right;\n",
       "    }\n",
       "</style>\n",
       "<table border=\"1\" class=\"dataframe\">\n",
       "  <thead>\n",
       "    <tr style=\"text-align: right;\">\n",
       "      <th></th>\n",
       "      <th>Hypothesis</th>\n",
       "      <th>RICE</th>\n",
       "    </tr>\n",
       "  </thead>\n",
       "  <tbody>\n",
       "    <tr>\n",
       "      <th>7</th>\n",
       "      <td>Add a subscription form to all the main pages....</td>\n",
       "      <td>112.0</td>\n",
       "    </tr>\n",
       "    <tr>\n",
       "      <th>2</th>\n",
       "      <td>Add product recommendation blocks to the store...</td>\n",
       "      <td>56.0</td>\n",
       "    </tr>\n",
       "    <tr>\n",
       "      <th>0</th>\n",
       "      <td>Add two new channels for attracting traffic. T...</td>\n",
       "      <td>40.0</td>\n",
       "    </tr>\n",
       "    <tr>\n",
       "      <th>6</th>\n",
       "      <td>Show banners with current offers and sales on ...</td>\n",
       "      <td>40.0</td>\n",
       "    </tr>\n",
       "    <tr>\n",
       "      <th>8</th>\n",
       "      <td>Launch a promotion that gives users discounts ...</td>\n",
       "      <td>16.2</td>\n",
       "    </tr>\n",
       "    <tr>\n",
       "      <th>3</th>\n",
       "      <td>Change the category structure. This will incre...</td>\n",
       "      <td>9.0</td>\n",
       "    </tr>\n",
       "    <tr>\n",
       "      <th>1</th>\n",
       "      <td>Launch your own delivery service. This will sh...</td>\n",
       "      <td>4.0</td>\n",
       "    </tr>\n",
       "    <tr>\n",
       "      <th>5</th>\n",
       "      <td>Add a customer review page. This will increase...</td>\n",
       "      <td>4.0</td>\n",
       "    </tr>\n",
       "    <tr>\n",
       "      <th>4</th>\n",
       "      <td>Change the background color on the main page. ...</td>\n",
       "      <td>3.0</td>\n",
       "    </tr>\n",
       "  </tbody>\n",
       "</table>\n",
       "</div>"
      ],
      "text/plain": [
       "                                          Hypothesis   RICE\n",
       "7  Add a subscription form to all the main pages....  112.0\n",
       "2  Add product recommendation blocks to the store...   56.0\n",
       "0  Add two new channels for attracting traffic. T...   40.0\n",
       "6  Show banners with current offers and sales on ...   40.0\n",
       "8  Launch a promotion that gives users discounts ...   16.2\n",
       "3  Change the category structure. This will incre...    9.0\n",
       "1  Launch your own delivery service. This will sh...    4.0\n",
       "5  Add a customer review page. This will increase...    4.0\n",
       "4  Change the background color on the main page. ...    3.0"
      ]
     },
     "metadata": {},
     "output_type": "display_data"
    }
   ],
   "source": [
    "# Aplicar el framework RICE\n",
    "hypotheses['RICE'] = (hypotheses['Reach'] * hypotheses['Impact'] * hypotheses['Confidence']) / hypotheses['Effort']\n",
    "hypotheses_rice_sorted = hypotheses.sort_values(by='RICE', ascending=False)\n",
    "\n",
    "# Mostrar las hipótesis ordenadas por RICE\n",
    "print(\"Hypotheses Prioritized by RICE:\")\n",
    "display(hypotheses_rice_sorted[['Hypothesis', 'RICE']])\n"
   ]
  },
  {
   "cell_type": "markdown",
   "metadata": {},
   "source": [
    "### Comparar las Prioridades ICE y RICE"
   ]
  },
  {
   "cell_type": "code",
   "execution_count": 9,
   "metadata": {},
   "outputs": [
    {
     "name": "stdout",
     "output_type": "stream",
     "text": [
      "Comparison of ICE and RICE Rankings:\n"
     ]
    },
    {
     "data": {
      "text/html": [
       "<div>\n",
       "<style scoped>\n",
       "    .dataframe tbody tr th:only-of-type {\n",
       "        vertical-align: middle;\n",
       "    }\n",
       "\n",
       "    .dataframe tbody tr th {\n",
       "        vertical-align: top;\n",
       "    }\n",
       "\n",
       "    .dataframe thead th {\n",
       "        text-align: right;\n",
       "    }\n",
       "</style>\n",
       "<table border=\"1\" class=\"dataframe\">\n",
       "  <thead>\n",
       "    <tr style=\"text-align: right;\">\n",
       "      <th></th>\n",
       "      <th>Hypothesis</th>\n",
       "      <th>ICE</th>\n",
       "      <th>RICE</th>\n",
       "      <th>ICE_Rank</th>\n",
       "      <th>RICE_Rank</th>\n",
       "    </tr>\n",
       "  </thead>\n",
       "  <tbody>\n",
       "    <tr>\n",
       "      <th>7</th>\n",
       "      <td>Add a subscription form to all the main pages....</td>\n",
       "      <td>11.200000</td>\n",
       "      <td>112.0</td>\n",
       "      <td>3.0</td>\n",
       "      <td>1.0</td>\n",
       "    </tr>\n",
       "    <tr>\n",
       "      <th>2</th>\n",
       "      <td>Add product recommendation blocks to the store...</td>\n",
       "      <td>7.000000</td>\n",
       "      <td>56.0</td>\n",
       "      <td>5.0</td>\n",
       "      <td>2.0</td>\n",
       "    </tr>\n",
       "    <tr>\n",
       "      <th>0</th>\n",
       "      <td>Add two new channels for attracting traffic. T...</td>\n",
       "      <td>13.333333</td>\n",
       "      <td>40.0</td>\n",
       "      <td>2.0</td>\n",
       "      <td>3.5</td>\n",
       "    </tr>\n",
       "    <tr>\n",
       "      <th>6</th>\n",
       "      <td>Show banners with current offers and sales on ...</td>\n",
       "      <td>8.000000</td>\n",
       "      <td>40.0</td>\n",
       "      <td>4.0</td>\n",
       "      <td>3.5</td>\n",
       "    </tr>\n",
       "    <tr>\n",
       "      <th>8</th>\n",
       "      <td>Launch a promotion that gives users discounts ...</td>\n",
       "      <td>16.200000</td>\n",
       "      <td>16.2</td>\n",
       "      <td>1.0</td>\n",
       "      <td>5.0</td>\n",
       "    </tr>\n",
       "    <tr>\n",
       "      <th>3</th>\n",
       "      <td>Change the category structure. This will incre...</td>\n",
       "      <td>1.125000</td>\n",
       "      <td>9.0</td>\n",
       "      <td>8.0</td>\n",
       "      <td>6.0</td>\n",
       "    </tr>\n",
       "    <tr>\n",
       "      <th>1</th>\n",
       "      <td>Launch your own delivery service. This will sh...</td>\n",
       "      <td>2.000000</td>\n",
       "      <td>4.0</td>\n",
       "      <td>6.0</td>\n",
       "      <td>7.5</td>\n",
       "    </tr>\n",
       "    <tr>\n",
       "      <th>5</th>\n",
       "      <td>Add a customer review page. This will increase...</td>\n",
       "      <td>1.333333</td>\n",
       "      <td>4.0</td>\n",
       "      <td>7.0</td>\n",
       "      <td>7.5</td>\n",
       "    </tr>\n",
       "    <tr>\n",
       "      <th>4</th>\n",
       "      <td>Change the background color on the main page. ...</td>\n",
       "      <td>1.000000</td>\n",
       "      <td>3.0</td>\n",
       "      <td>9.0</td>\n",
       "      <td>9.0</td>\n",
       "    </tr>\n",
       "  </tbody>\n",
       "</table>\n",
       "</div>"
      ],
      "text/plain": [
       "                                          Hypothesis        ICE   RICE  \\\n",
       "7  Add a subscription form to all the main pages....  11.200000  112.0   \n",
       "2  Add product recommendation blocks to the store...   7.000000   56.0   \n",
       "0  Add two new channels for attracting traffic. T...  13.333333   40.0   \n",
       "6  Show banners with current offers and sales on ...   8.000000   40.0   \n",
       "8  Launch a promotion that gives users discounts ...  16.200000   16.2   \n",
       "3  Change the category structure. This will incre...   1.125000    9.0   \n",
       "1  Launch your own delivery service. This will sh...   2.000000    4.0   \n",
       "5  Add a customer review page. This will increase...   1.333333    4.0   \n",
       "4  Change the background color on the main page. ...   1.000000    3.0   \n",
       "\n",
       "   ICE_Rank  RICE_Rank  \n",
       "7       3.0        1.0  \n",
       "2       5.0        2.0  \n",
       "0       2.0        3.5  \n",
       "6       4.0        3.5  \n",
       "8       1.0        5.0  \n",
       "3       8.0        6.0  \n",
       "1       6.0        7.5  \n",
       "5       7.0        7.5  \n",
       "4       9.0        9.0  "
      ]
     },
     "metadata": {},
     "output_type": "display_data"
    }
   ],
   "source": [
    "# Comparar las prioridades ICE y RICE\n",
    "hypotheses_comparison = hypotheses[['Hypothesis', 'ICE', 'RICE']].copy()\n",
    "hypotheses_comparison['ICE_Rank'] = hypotheses_comparison['ICE'].rank(ascending=False)\n",
    "hypotheses_comparison['RICE_Rank'] = hypotheses_comparison['RICE'].rank(ascending=False)\n",
    "hypotheses_comparison = hypotheses_comparison.sort_values(by='RICE_Rank')\n",
    "\n",
    "# Mostrar la comparación\n",
    "print(\"Comparison of ICE and RICE Rankings:\")\n",
    "display(hypotheses_comparison)"
   ]
  },
  {
   "cell_type": "markdown",
   "metadata": {},
   "source": [
    "**Observaciones** \n",
    "* **Hypothesis 7** (\"Add a subscription form to all the main pages\") sube de la posición 3 a la 1 cuando usamos RICE en lugar de ICE, debido a su alto alcance (Reach).\n",
    "* **Hypothesis 2** (\"Add product recommendation blocks to the store\") sube de la posición 5 a la 2, también debido a su alcance.\n",
    "* **Hypothesis 0** (\"Add two new channels for attracting traffic\") y Hypothesis 6 (\"Show banners with current offers and sales on the main page\") se mantienen en posiciones altas en ambos rankings.\n",
    "* **Hypothesis 8** (\"Launch a promotion that gives users discounts\") baja de la posición 1 a la 5 con RICE, lo que indica que su alcance es relativamente bajo comparado con su impacto y confianza.\n",
    "* Las hipótesis con menor impacto, confianza y alcance, como Hypothesis 4 (\"Change the background color on the main page\"), permanecen en posiciones bajas en ambos rankings.\n",
    "\n",
    "Esta comparación muestra cómo la inclusión del alcance en el cálculo de RICE puede cambiar significativamente la priorización de las hipótesis."
   ]
  },
  {
   "cell_type": "markdown",
   "metadata": {},
   "source": [
    "<div class=\"alert alert-block alert-success\">\n",
    "<b>Comentario del revisor</b> <a class=\"tocSkip\"></a>\n",
    "    \n",
    "Buen trabajo. Aplicas los frameworks RISE e ICE de manera correcta. Adicional a lo anterior, realizas una comparación de los resultados de muy buena manear y genera conclusiones coherentes e interesantes. </div>"
   ]
  },
  {
   "cell_type": "markdown",
   "metadata": {},
   "source": [
    "<div class=\"alert alert-block alert-danger\">\n",
    "<b>Comentario del revisor</b> <a class=\"tocSkip\"></a>\n",
    "    \n",
    "**Comentario Importante** \n",
    "    \n",
    "~~Hola, Bastian. He revisado toda to sección de Análisis de test A/B y realmente luce bien e interesante, ahora bien, me he fijado que antes de desarrollarla no has tenido en cuenta un aspecto importante para que las conclusiones que obtengamos sean las correctas, debes previos al desarrollo de los análisis identificar y eliminar los usuarios que están presentes en los dos grupos.~~ </div>\n"
   ]
  },
  {
   "cell_type": "markdown",
   "metadata": {},
   "source": [
    "<div class=\"alert alert-block alert-info\">\n",
    "Su observación me permitió ajustar y mejorar el preprocesamiento de datos, lo que resultó en una mayor precisión en los resultados parciales. Aunque el cambio no afectó el resultado final, fue crucial para alinear nuestro enfoque con la realidad y garantizar la validez del análisis. ¡Gracias por su atención y apoyo en este proceso!<a class=\"tocSkip\"></a>\n",
    "</div\n"
   ]
  },
  {
   "cell_type": "markdown",
   "metadata": {},
   "source": [
    "<div class=\"alert alert-block alert-success\">\n",
    "<b>Comentario del revisor #2</b> <a class=\"tocSkip\"></a>\n",
    "    \n",
    "Genial Bastian, gracias por tener en cuenta el comentario. </div>\n"
   ]
  },
  {
   "cell_type": "markdown",
   "metadata": {},
   "source": [
    "## Análisis de Test A/B:"
   ]
  },
  {
   "cell_type": "markdown",
   "metadata": {},
   "source": [
    "En esta segunda parte del proyecto, llevaremos a cabo un análisis detallado de los resultados del test A/B para evaluar la efectividad de las hipótesis priorizadas. Este análisis incluirá los siguientes pasos:\n",
    "\n",
    "0. **Preprocesar los datos del test A/B:** Para asegurar la calidad y precisión, eliminaremos los errores y duplicados que puedan sesgar los resultados.\n",
    "1. **Ingreso Acumulado por Grupo:** Representaremos gráficamente el ingreso acumulado por grupo para observar las tendencias y diferencias en el rendimiento de ingresos entre los grupos A y B. Esperamos identificar patrones significativos que nos permitan hacer conjeturas informadas.\n",
    "2. **Tamaño de Pedido Promedio Acumulado por Grupo:** Analizaremos el tamaño de pedido promedio acumulado para cada grupo. Este análisis nos ayudará a comprender cómo las hipótesis afectan el comportamiento de compra de los usuarios.\n",
    "3. **Diferencia Relativa en el Tamaño de Pedido Promedio Acumulado:** Calcularemos y representaremos gráficamente la diferencia relativa en el tamaño de pedido promedio acumulado para el grupo B en comparación con el grupo A. Esto nos permitirá evaluar la magnitud del impacto de las hipótesis en el tamaño de los pedidos.\n",
    "4. **Tasa de Conversión Diaria por Grupo:** Calcularemos la tasa de conversión diaria de cada grupo y la representaremos gráficamente. Este análisis nos ayudará a identificar diferencias en la efectividad de las hipótesis en términos de conversión de visitantes a compradores.\n",
    "5. **Gráfico de Dispersión del Número de Pedidos por Usuario:** Traza un gráfico de dispersión para visualizar el número de pedidos realizados por cada usuario. Este análisis ayudará a identificar patrones y posibles anomalías en el comportamiento de compra.\n",
    "6. **Cálculo de los Percentiles 95 y 99 para el Número de Pedidos por Usuario:** Definiremos los puntos en los cuales los datos se consideran anomalías, calculando los percentiles 95 y 99 para el número de pedidos por usuario.\n",
    "7. **Gráfico de Dispersión de los Precios de los Pedidos:** Traza un gráfico de dispersión de los precios de los pedidos para identificar patrones y anomalías en los datos de ingresos.\n",
    "8. **Cálculo de los Percentiles 95 y 99 de los Precios de los Pedidos:** Definiremos los puntos en los cuales los datos se consideran anomalías, calculando los percentiles 95 y 99 para los precios de los pedidos.\n",
    "9. **Significancia Estadística de la Diferencia en la Conversión entre los Grupos (Datos en Bruto):** Evaluaremos la significancia estadística de la diferencia en la tasa de conversión entre los grupos utilizando los datos en bruto. Haremos conclusiones y conjeturas basadas en los resultados.\n",
    "10. **Significancia Estadística de la Diferencia en el Tamaño Promedio de Pedido entre los Grupos (Datos en Bruto):** Evaluaremos la significancia estadística de la diferencia en el tamaño promedio de pedido entre los grupos utilizando los datos en bruto. Haremos conclusiones y conjeturas basadas en los resultados.\n",
    "11. **Significancia Estadística de la Diferencia en la Conversión entre los Grupos (Datos Filtrados):** Evaluaremos la significancia estadística de la diferencia en la tasa de conversión entre los grupos utilizando los datos filtrados. Haremos conclusiones y conjeturas basadas en los resultados.\n",
    "12. **Significancia Estadística de la Diferencia en el Tamaño Promedio de Pedido entre los Grupos (Datos Filtrados):** Evaluaremos la significancia estadística de la diferencia en el tamaño promedio de pedido entre los grupos utilizando los datos filtrados. Haremos conclusiones y conjeturas basadas en los resultados.\n",
    "13. **Toma de Decisiones Basada en los Resultados de la Prueba:** Basándonos en los resultados del análisis estadístico, tomaremos una decisión sobre cuál grupo considerar como líder o si es necesario continuar con la prueba para obtener más datos. Las posibles decisiones son: 1. Considerar a uno de los grupos como líder. 2. Concluir que no hay diferencia entre los grupos. 3. Continuar la prueba."
   ]
  },
  {
   "cell_type": "markdown",
   "metadata": {},
   "source": [
    "**2.0 Preprocesar los datos del test A/B**"
   ]
  },
  {
   "cell_type": "code",
   "execution_count": 10,
   "metadata": {},
   "outputs": [
    {
     "name": "stdout",
     "output_type": "stream",
     "text": [
      "Usuarios comunes eliminados: 58\n"
     ]
    }
   ],
   "source": [
    "# Identificar los IDs de usuarios únicos en cada grupo\n",
    "group_a_users = orders[orders['group'] == 'A']['visitorId'].unique()\n",
    "group_b_users = orders[orders['group'] == 'B']['visitorId'].unique()\n",
    "\n",
    "# Identificar los usuarios que están en ambos grupos\n",
    "common_users = np.intersect1d(group_a_users, group_b_users)\n",
    "\n",
    "# Eliminar los usuarios duplicados del dataframe de orders\n",
    "orders_filtered = orders[~orders['visitorId'].isin(common_users)]\n",
    "\n",
    "# Confirmar que los usuarios comunes han sido eliminados\n",
    "print(f\"Usuarios comunes eliminados: {len(common_users)}\")"
   ]
  },
  {
   "cell_type": "markdown",
   "metadata": {},
   "source": [
    "<div class=\"alert alert-block alert-success\">\n",
    "<b>Comentario del revisor #2</b> <a class=\"tocSkip\"></a>\n",
    "    \n",
    "Excelente, buen trabajo con el tratamiento de los datos realizado.  </div>"
   ]
  },
  {
   "cell_type": "markdown",
   "metadata": {},
   "source": [
    "### Ingreso Acumulado por Grupo"
   ]
  },
  {
   "cell_type": "code",
   "execution_count": 11,
   "metadata": {},
   "outputs": [
    {
     "data": {
      "image/png": "[encoded data removed]",
      "text/plain": [
       "<Figure size 1000x600 with 1 Axes>"
      ]
     },
     "metadata": {},
     "output_type": "display_data"
    }
   ],
   "source": [
    "# Crear una matriz con valores únicos de parejas fecha-grupo\n",
    "datesGroups = orders_filtered[['date', 'group']].drop_duplicates()\n",
    "\n",
    "# Obtener los datos diarios acumulados agregados sobre los pedidos\n",
    "ordersAggregated = datesGroups.apply(\n",
    "    lambda x: orders_filtered[np.logical_and(\n",
    "        orders_filtered['date'] <= x['date'], orders_filtered['group'] == x['group']\n",
    "    )].agg({'date': 'max', 'group': 'max', 'transactionId': pd.Series.nunique, 'visitorId': pd.Series.nunique, 'revenue': 'sum'}),\n",
    "    axis=1\n",
    ").sort_values(by=['date', 'group'])\n",
    "\n",
    "# Obtener los datos diarios acumulados agregados sobre los visitantes\n",
    "visitorsAggregated = datesGroups.apply(\n",
    "    lambda x: visits[np.logical_and(\n",
    "        visits['date'] <= x['date'], visits['group'] == x['group']\n",
    "    )].agg({'date': 'max', 'group': 'max', 'visits': 'sum'}),\n",
    "    axis=1\n",
    ").sort_values(by=['date', 'group'])\n",
    "\n",
    "# Fusionar las dos tablas en una y dar a sus columnas nombres descriptivos\n",
    "cumulativeData = ordersAggregated.merge(visitorsAggregated, left_on=['date', 'group'], right_on=['date', 'group'])\n",
    "cumulativeData.columns = ['date', 'group', 'orders', 'buyers', 'revenue', 'visitors']\n",
    "\n",
    "# Crear gráficos de ingresos acumulados por día y grupo de prueba A/B\n",
    "cumulativeRevenueA = cumulativeData[cumulativeData['group'] == 'A'][['date', 'revenue', 'orders']]\n",
    "cumulativeRevenueB = cumulativeData[cumulativeData['group'] == 'B'][['date', 'revenue', 'orders']]\n",
    "\n",
    "plt.plot(cumulativeRevenueA['date'], cumulativeRevenueA['revenue'], label='A')\n",
    "plt.plot(cumulativeRevenueB['date'], cumulativeRevenueB['revenue'], label='B')\n",
    "plt.legend()\n",
    "plt.title('Cumulative Revenue by Group')\n",
    "plt.xlabel('Date')\n",
    "plt.ylabel('Revenue')\n",
    "plt.show()\n"
   ]
  },
  {
   "cell_type": "markdown",
   "metadata": {},
   "source": [
    "**Observaciones sobre el Gráfico de Ingresos Acumulados por Grupo**\n",
    "1. **Grupo B tiene mayores ingresos acumulados:** Durante todo el período de prueba, el grupo B ha mostrado ingresos acumulados consistentemente mayores en comparación con el grupo A. Esto indica que las estrategias implementadas en el grupo B están teniendo un impacto positivo en los ingresos.\n",
    "\n",
    "2. **Aumento notable en el grupo B alrededor del 19 de agosto:** Se observa un aumento significativo en los ingresos acumulados del grupo B alrededor del 19 de agosto. Este podría ser un punto crítico en el análisis, posiblemente debido a una promoción o un cambio significativo que impactó positivamente los ingresos del grupo B.\n",
    "\n",
    "3. **Consistencia en la diferencia de ingresos:** A lo largo del tiempo, la diferencia entre los ingresos acumulados de los grupos A y B se mantiene constante, con el grupo B siempre superando al grupo A. Esto refuerza la idea de que las estrategias implementadas en el grupo B son más efectivas."
   ]
  },
  {
   "cell_type": "markdown",
   "metadata": {},
   "source": [
    "<div class=\"alert alert-block alert-success\">\n",
    "<b>Comentario del revisor #2</b> <a class=\"tocSkip\"></a>\n",
    "    \n",
    "Perfecto Bastian, buen trabajo con la construcción y despliegue de la gráfica de los ingresos acumulados por grupo.  </div>"
   ]
  },
  {
   "cell_type": "markdown",
   "metadata": {},
   "source": [
    "### Tamaño de Pedido Promedio Acumulado por Grupo"
   ]
  },
  {
   "cell_type": "code",
   "execution_count": 12,
   "metadata": {},
   "outputs": [
    {
     "data": {
      "image/png": "[encoded data removed]",
      "text/plain": [
       "<Figure size 1000x600 with 1 Axes>"
      ]
     },
     "metadata": {},
     "output_type": "display_data"
    }
   ],
   "source": [
    "# Crear gráficos del tamaño promedio de pedido acumulado por día y grupo de prueba A/B\n",
    "plt.plot(cumulativeRevenueA['date'], cumulativeRevenueA['revenue'] / cumulativeRevenueA['orders'], label='A')\n",
    "plt.plot(cumulativeRevenueB['date'], cumulativeRevenueB['revenue'] / cumulativeRevenueB['orders'], label='B')\n",
    "plt.legend()\n",
    "plt.title('Cumulative Average Order Size by Group')\n",
    "plt.xlabel('Date')\n",
    "plt.ylabel('Average Order Size')\n",
    "plt.show()\n"
   ]
  },
  {
   "cell_type": "markdown",
   "metadata": {},
   "source": [
    "**Observaciones sobre el Gráfico de Tamaño de Pedido Promedio Acumulado por Grupo**\n",
    "1. **Pico significativo en el grupo B alrededor del 19 de agosto:** Observamos un pico extremo en el tamaño de pedido promedio acumulado en el grupo B alrededor del 19 de agosto. Este pico podría estar relacionado con un pedido excepcionalmente grande o con un número reducido de pedidos que aumentaron el tamaño promedio. Este comportamiento anómalo debería ser investigado más a fondo para comprender la causa subyacente.\n",
    "\n",
    "2. **Fluctuaciones en ambos grupos:** Tanto el grupo A como el grupo B muestran fluctuaciones en el tamaño de pedido promedio acumulado a lo largo del tiempo. Sin embargo, el grupo B tiene más variabilidad, con picos y caídas más pronunciadas en comparación con el grupo A.\n",
    "\n",
    "3. **Consistencia después del pico:** Después del pico significativo, los tamaños de pedido promedio acumulados en ambos grupos parecen estabilizarse y converger hacia valores más consistentes.\n",
    "\n",
    "4. **Comparación de niveles generales:** A pesar de las fluctuaciones, los niveles generales del tamaño de pedido promedio acumulado muestran que el grupo B tiene un tamaño de pedido promedio más alto en comparación con el grupo A. Sin embargo, la diferencia no es constante y muestra variabilidad a lo largo del tiempo."
   ]
  },
  {
   "cell_type": "markdown",
   "metadata": {},
   "source": [
    "<div class=\"alert alert-block alert-success\">\n",
    "<b>Comentario del revisor #2</b> <a class=\"tocSkip\"></a>\n",
    "    \n",
    "Perfecto Bastian, buen trabajo con la construcción y despliegue de la gráfica del tamañao de pedido promedio acumulado por grupo.  </div>"
   ]
  },
  {
   "cell_type": "markdown",
   "metadata": {},
   "source": [
    "### Diferencia Relativa en el Tamaño de Pedido Promedio Acumulado"
   ]
  },
  {
   "cell_type": "code",
   "execution_count": 13,
   "metadata": {},
   "outputs": [
    {
     "data": {
      "image/png": "[encoded data removed]",
      "text/plain": [
       "<Figure size 1000x600 with 1 Axes>"
      ]
     },
     "metadata": {},
     "output_type": "display_data"
    }
   ],
   "source": [
    "# Fusionar datos acumulados por fecha\n",
    "mergedCumulativeRevenue = cumulativeRevenueA.merge(cumulativeRevenueB, left_on='date', right_on='date', how='left', suffixes=['A', 'B'])\n",
    "\n",
    "# Calcular la diferencia relativa\n",
    "relative_difference = (mergedCumulativeRevenue['revenueB'] / mergedCumulativeRevenue['ordersB']) / (mergedCumulativeRevenue['revenueA'] / mergedCumulativeRevenue['ordersA']) - 1\n",
    "\n",
    "# Crear gráfico de diferencia relativa\n",
    "plt.plot(mergedCumulativeRevenue['date'], relative_difference, label='Relative Difference')\n",
    "plt.axhline(y=0, color='black', linestyle='--', label='Threshold')\n",
    "plt.xlabel('Date')\n",
    "plt.ylabel('Relative Difference')\n",
    "plt.title('Relative Difference in Average Order Size (Group B vs Group A)')\n",
    "plt.legend()\n",
    "plt.show()\n"
   ]
  },
  {
   "cell_type": "markdown",
   "metadata": {},
   "source": [
    "**Observaciones sobre la Diferencia Relativa en el Tamaño de Pedido Promedio Acumulado**\n",
    "1. **Pico significativo el 19 de agosto:** La diferencia relativa alcanza un máximo significativo alrededor del 19 de agosto, lo que coincide con el pico observado anteriormente en el tamaño de pedido promedio acumulado del grupo B. Esto sugiere que el evento o promoción que ocurrió en esta fecha tuvo un impacto muy grande en el tamaño de pedido en el grupo B.\n",
    "\n",
    "2. **Fluctuaciones generales:** Antes y después del pico, la diferencia relativa muestra fluctuaciones. Aunque hay variabilidad, no hay una tendencia clara y sostenida en la diferencia relativa entre los grupos.\n",
    "\n",
    "3. **Valores negativos:** En varios puntos, la diferencia relativa es negativa, lo que indica que el tamaño de pedido promedio en el grupo A fue mayor que en el grupo B en esos días. Esto resalta que, aunque el grupo B tuvo un pico significativo, no siempre mantuvo tamaños de pedidos mayores de manera consistente.\n",
    "\n",
    "4. **Estabilización después del pico:**  Después del pico, la diferencia relativa parece estabilizarse por encima de cero, lo que sugiere que el grupo B mantuvo tamaños de pedidos mayores en comparación con el grupo A hacia el final del período de prueba."
   ]
  },
  {
   "cell_type": "markdown",
   "metadata": {},
   "source": [
    "<div class=\"alert alert-block alert-success\">\n",
    "<b>Comentario del revisor #2</b> <a class=\"tocSkip\"></a>\n",
    "    \n",
    "Perfecto Bastian, buen trabajo con la construcción y despliegue de la gráfica de la diferencia relativa en el tamaño de pedido promedio acumulado  </div>"
   ]
  },
  {
   "cell_type": "markdown",
   "metadata": {},
   "source": [
    "### Tasa de Conversión Diaria por Grupo"
   ]
  },
  {
   "cell_type": "code",
   "execution_count": 14,
   "metadata": {
    "scrolled": false
   },
   "outputs": [
    {
     "data": {
      "image/png": "[encoded data removed]",
      "text/plain": [
       "<Figure size 1000x600 with 1 Axes>"
      ]
     },
     "metadata": {},
     "output_type": "display_data"
    }
   ],
   "source": [
    "# Calcular la tasa de conversión diaria\n",
    "daily_data = orders_filtered.groupby(['date', 'group']).agg({'transactionId': 'count', 'visitorId': 'nunique'}).reset_index()\n",
    "daily_data.columns = ['date', 'group', 'orders', 'buyers']\n",
    "daily_data = daily_data.merge(visits, on=['date', 'group'])\n",
    "daily_data['conversion_rate'] = daily_data['orders'] / daily_data['visits']\n",
    "\n",
    "# Crear gráfico de la tasa de conversión diaria por grupo\n",
    "for group in daily_data['group'].unique():\n",
    "    plt.plot(daily_data[daily_data['group'] == group]['date'], daily_data[daily_data['group'] == group]['conversion_rate'], label=group)\n",
    "\n",
    "plt.legend()\n",
    "plt.title('Daily Conversion Rate by Group')\n",
    "plt.xlabel('Date')\n",
    "plt.ylabel('Conversion Rate')\n",
    "plt.show()\n"
   ]
  },
  {
   "cell_type": "markdown",
   "metadata": {},
   "source": [
    "**Observaciones sobre la Tasa de Conversión Diaria por Grupo**\n",
    "1. **Fluctuaciones Diarias:** Ambas tasas de conversión muestran fluctuaciones significativas a lo largo del tiempo. No hay una tendencia clara en la que un grupo supere consistentemente al otro.\n",
    "\n",
    "2. **Picos y Valles:** Se observan varios picos y valles en ambos grupos, lo que indica variabilidad en la actividad de conversión diaria. El grupo B tiene algunos picos más altos en comparación con el grupo A, lo que sugiere días de mayor éxito en la conversión.\n",
    "\n",
    "3. **Convergencia:** En varios puntos, las tasas de conversión de ambos grupos parecen converger, pero luego divergen nuevamente. Esto sugiere que las diferencias en las tasas de conversión no son consistentes a lo largo del tiempo.\n",
    "\n",
    "4. **Nivel General Similar:** A pesar de las fluctuaciones, los niveles generales de las tasas de conversión diarias entre los grupos A y B parecen ser bastante similares. Esto indica que, en promedio, ambos grupos tienen tasas de conversión comparables, aunque experimenten variaciones diarias."
   ]
  },
  {
   "cell_type": "markdown",
   "metadata": {},
   "source": [
    "<div class=\"alert alert-block alert-success\">\n",
    "<b>Comentario del revisor #2</b> <a class=\"tocSkip\"></a>\n",
    "    \n",
    "Perfecto Bastian, buen trabajo con la construcción y despliegue de la gráfica de la tasa de conversión diaria por grupo.  </div>"
   ]
  },
  {
   "cell_type": "markdown",
   "metadata": {},
   "source": [
    "### Gráfico de Dispersión del Número de Pedidos por Usuario"
   ]
  },
  {
   "cell_type": "code",
   "execution_count": 15,
   "metadata": {},
   "outputs": [
    {
     "data": {
      "image/png": "[encoded data removed]",
      "text/plain": [
       "<Figure size 1000x600 with 1 Axes>"
      ]
     },
     "metadata": {},
     "output_type": "display_data"
    }
   ],
   "source": [
    "# Calcular el número de pedidos por usuario\n",
    "orders_per_user = orders_filtered.groupby('visitorId').agg({'transactionId': 'count'}).reset_index()\n",
    "orders_per_user.columns = ['visitorId', 'orders']\n",
    "\n",
    "# Crear gráfico de dispersión del número de pedidos por usuario\n",
    "plt.scatter(orders_per_user['visitorId'], orders_per_user['orders'])\n",
    "plt.title('Number of Orders per User')\n",
    "plt.xlabel('User ID')\n",
    "plt.ylabel('Number of Orders')\n",
    "plt.show()\n"
   ]
  },
  {
   "cell_type": "markdown",
   "metadata": {},
   "source": [
    "**Observaciones sobre el Gráfico de Dispersión del Número de Pedidos por Usuario**\n",
    "1. **Usuarios con un Pedido:** La mayoría de los usuarios realizaron solo un pedido, lo que sugiere que la base de usuarios tiene una baja frecuencia de pedidos repetidos.\n",
    "\n",
    "2. **Pedidos Repetidos:** Hay varios usuarios que realizaron más de un pedido, con algunos usuarios realizando hasta 3 pedidos. Estos usuarios representan una pequeña pero significativa parte de la base de clientes que realizan pedidos repetidos con cierta frecuencia.\n",
    "\n",
    "3. **Distribución de Pedidos:** Los pedidos adicionales más allá del primer pedido son menos comunes, pero todavía hay una distribución visible de usuarios que realizaron entre 2 y 3 pedidos.\n",
    "\n",
    "4. **Anomalías:** No se observan usuarios que realizaron más de 3 pedidos en este gráfico. Los usuarios que realizaron más de 2 pedidos pueden considerarse como comportamientos relativamente inusuales pero no extremos."
   ]
  },
  {
   "cell_type": "markdown",
   "metadata": {},
   "source": [
    "<div class=\"alert alert-block alert-success\">\n",
    "<b>Comentario del revisor #2</b> <a class=\"tocSkip\"></a>\n",
    "    \n",
    "Excelente, buen trabajo estudiando la dispersión del número de pedidos por cliente.  </div>"
   ]
  },
  {
   "cell_type": "markdown",
   "metadata": {},
   "source": [
    "### Cálculo de los Percentiles 95 y 99 para el Número de Pedidos por Usuario"
   ]
  },
  {
   "cell_type": "code",
   "execution_count": 16,
   "metadata": {},
   "outputs": [
    {
     "name": "stdout",
     "output_type": "stream",
     "text": [
      "Percentil 95: 1.0\n",
      "Percentil 99: 2.0\n"
     ]
    }
   ],
   "source": [
    "# Calcular percentiles\n",
    "percentile_95 = orders_per_user['orders'].quantile(0.95)\n",
    "percentile_99 = orders_per_user['orders'].quantile(0.99)\n",
    "print(f'Percentil 95: {percentile_95}')\n",
    "print(f'Percentil 99: {percentile_99}')"
   ]
  },
  {
   "cell_type": "markdown",
   "metadata": {},
   "source": [
    "**Observaciones sobre el Cálculo de los Percentiles 95 y 99 para el Número de Pedidos por Usuario**\n",
    "1. **Percentil 95:**  El percentil 95 para el número de pedidos por usuario es 1, lo que significa que el 95% de los usuarios realizaron 1 o menos pedidos.\n",
    "\n",
    "2. **Percentil 99:** El percentil 99 para el número de pedidos por usuario es 2, indicando que el 99% de los usuarios realizaron 2 o menos pedidos."
   ]
  },
  {
   "cell_type": "markdown",
   "metadata": {},
   "source": [
    "<div class=\"alert alert-block alert-success\">\n",
    "<b>Comentario del revisor #2</b> <a class=\"tocSkip\"></a>\n",
    "    \n",
    "Buen trabajo con el cálculo y análisis de los percentiles de número de pedidos por usuario.   </div>"
   ]
  },
  {
   "cell_type": "markdown",
   "metadata": {},
   "source": [
    "### Gráfico de Dispersión de los Precios de los Pedidos"
   ]
  },
  {
   "cell_type": "code",
   "execution_count": 17,
   "metadata": {},
   "outputs": [
    {
     "data": {
      "image/png": "[encoded data removed]",
      "text/plain": [
       "<Figure size 1000x600 with 1 Axes>"
      ]
     },
     "metadata": {},
     "output_type": "display_data"
    }
   ],
   "source": [
    "# Crear gráfico de dispersión de los precios de los pedidos\n",
    "plt.scatter(orders_filtered['transactionId'], orders_filtered['revenue'])\n",
    "plt.title('Order Prices')\n",
    "plt.xlabel('Order ID')\n",
    "plt.ylabel('Price')\n",
    "plt.show()"
   ]
  },
  {
   "cell_type": "markdown",
   "metadata": {},
   "source": [
    "**Observaciones sobre el Gráfico de Dispersión de los Precios de los Pedidos**\n",
    "1. **Distribución General:** La mayoría de los precios de los pedidos se agrupan en un rango bajo, con la gran mayoría de los pedidos por debajo de los 2500. Esto sugiere que los pedidos de alto valor son relativamente raros en comparación con los de menor valor.\n",
    "\n",
    "2. **Anomalía Significativa:** Hay un pedido que se destaca de manera significativa, con un precio cercano a los 20000. Este pedido es una clara anomalía y debe ser considerado para un análisis más profundo. Su presencia puede influir desproporcionadamente en las métricas agregadas y acumuladas.\n",
    "\n",
    "3. **Pocos Pedidos Elevados:** Aparte de la anomalía significativa, hay algunos pedidos adicionales con precios más altos que la mayoría, aunque no tan extremos como el de 20000. Estos pedidos de mayor valor pueden indicar compras especiales o promociones de alto valor y también merecen una revisión más detallada."
   ]
  },
  {
   "cell_type": "markdown",
   "metadata": {},
   "source": [
    "<div class=\"alert alert-block alert-success\">\n",
    "<b>Comentario del revisor #2</b> <a class=\"tocSkip\"></a>\n",
    "    \n",
    "Buen trabajo con el despliegue del grafico gráfico de dispersión de los precios de los pedidos  </div>"
   ]
  },
  {
   "cell_type": "markdown",
   "metadata": {},
   "source": [
    "### Cálculo de los Percentiles 95 y 99 de los Precios de los Pedidos"
   ]
  },
  {
   "cell_type": "code",
   "execution_count": 18,
   "metadata": {},
   "outputs": [
    {
     "name": "stdout",
     "output_type": "stream",
     "text": [
      "Percentil 95: 414.275\n",
      "Percentil 99: 830.3\n"
     ]
    }
   ],
   "source": [
    "# Calcular percentiles para los precios de los pedidos\n",
    "percentile_95_price = orders_filtered['revenue'].quantile(0.95)\n",
    "percentile_99_price = orders_filtered['revenue'].quantile(0.99)\n",
    "print(f'Percentil 95: {percentile_95_price}')\n",
    "print(f'Percentil 99: {percentile_99_price}')\n"
   ]
  },
  {
   "cell_type": "markdown",
   "metadata": {},
   "source": [
    "**Observaciones sobre el Cálculo de los Percentiles 95 y 99 de los Precios de los Pedidos**\n",
    "1. **Percentil 95:** El percentil 95 para los precios de los pedidos es 414.275. Esto indica que el 95% de los pedidos tienen un precio menor o igual a 414.275.\n",
    "\n",
    "2. **Percentil 99:** El percentil 99 para los precios de los pedidos es 830.3. Esto significa que el 99% de los pedidos tienen un precio menor o igual a 830.3."
   ]
  },
  {
   "cell_type": "markdown",
   "metadata": {},
   "source": [
    "<div class=\"alert alert-block alert-success\">\n",
    "<b>Comentario del revisor #2</b> <a class=\"tocSkip\"></a>\n",
    "    \n",
    "Buen trabajo con cálculo de los percentiles.  </div>"
   ]
  },
  {
   "cell_type": "markdown",
   "metadata": {},
   "source": [
    "### Significancia Estadística de la Diferencia en la Conversión entre los Grupos (Datos en Bruto)"
   ]
  },
  {
   "cell_type": "code",
   "execution_count": 19,
   "metadata": {},
   "outputs": [
    {
     "name": "stdout",
     "output_type": "stream",
     "text": [
      "Conversion Rate A: 0.025890306958716493\n",
      "Conversion Rate B: 0.030424002805202716\n",
      "Z-Score: -2.3899344431697442\n",
      "P-Value: 0.01685138043470311\n"
     ]
    }
   ],
   "source": [
    "# Calcular conversion rates\n",
    "conversion_rate_A = daily_data[daily_data['group'] == 'A']['conversion_rate'].mean()\n",
    "conversion_rate_B = daily_data[daily_data['group'] == 'B']['conversion_rate'].mean()\n",
    "\n",
    "# Calcular el número de éxitos y muestras\n",
    "successes = [daily_data[daily_data['group'] == 'A']['orders'].sum(), daily_data[daily_data['group'] == 'B']['orders'].sum()]\n",
    "samples = [daily_data[daily_data['group'] == 'A']['visits'].sum(), daily_data[daily_data['group'] == 'B']['visits'].sum()]\n",
    "\n",
    "# Prueba Z para proporciones\n",
    "z_score, p_value = sm.stats.proportions_ztest(successes, samples)\n",
    "print(f\"Conversion Rate A: {conversion_rate_A}\")\n",
    "print(f\"Conversion Rate B: {conversion_rate_B}\")\n",
    "print(f\"Z-Score: {z_score}\")\n",
    "print(f\"P-Value: {p_value}\")"
   ]
  },
  {
   "cell_type": "markdown",
   "metadata": {},
   "source": [
    "**Observaciones sobre la Significancia Estadística de la Diferencia en la Conversión entre los Grupos (Datos en Bruto)**\n",
    "1. **Tasa de Conversión del Grupo A:** La tasa de conversión para el grupo A es aproximadamente 2.59%.\n",
    "\n",
    "2. **Tasa de Conversión del Grupo B:** La tasa de conversión para el grupo B es aproximadamente 3.04%.\n",
    "\n",
    "3. **Prueba Z:** El valor Z obtenido es -2.39. Un valor Z negativo indica que la tasa de conversión del grupo A es menor que la del grupo B.\n",
    "\n",
    "4. **Valor P:** El valor P obtenido es 0.0169. Dado que este valor es menor que el nivel de significancia comúnmente utilizado (0.05), podemos rechazar la hipótesis nula de que no hay diferencia en las tasas de conversión entre los dos grupos.\n",
    "\n",
    "**Conclusión** \n",
    "\n",
    "Existe una diferencia estadísticamente significativa en las tasas de conversión entre los grupos A y B cuando se usan los datos en bruto. La tasa de conversión del grupo B es significativamente mayor que la del grupo A."
   ]
  },
  {
   "cell_type": "markdown",
   "metadata": {},
   "source": [
    "<div class=\"alert alert-block alert-success\">\n",
    "<b>Comentario del revisor #2</b> <a class=\"tocSkip\"></a>\n",
    "    \n",
    "Buen trabajo con el desarrollo de la prueba.  </div>"
   ]
  },
  {
   "cell_type": "markdown",
   "metadata": {},
   "source": [
    "### Significancia Estadística de la Diferencia en el Tamaño Promedio de Pedido entre los Grupos (Datos en Bruto)"
   ]
  },
  {
   "cell_type": "code",
   "execution_count": 20,
   "metadata": {},
   "outputs": [
    {
     "name": "stdout",
     "output_type": "stream",
     "text": [
      "Average Order Size A: 113.70085470085469\n",
      "Average Order Size B: 145.34890510948907\n",
      "T-Statistic: -0.8344812341397616\n",
      "P-Value: 0.4043438730780975\n"
     ]
    }
   ],
   "source": [
    "# Calcular tamaños promedio de pedido\n",
    "average_order_size_A = orders_filtered[orders_filtered['group'] == 'A']['revenue'].mean()\n",
    "average_order_size_B = orders_filtered[orders_filtered['group'] == 'B']['revenue'].mean()\n",
    "\n",
    "# Prueba t para tamaños promedio de pedido\n",
    "t_stat, p_value = stats.ttest_ind(orders_filtered[orders_filtered['group'] == 'A']['revenue'], orders_filtered[orders_filtered['group'] == 'B']['revenue'], equal_var=False)\n",
    "print(f\"Average Order Size A: {average_order_size_A}\")\n",
    "print(f\"Average Order Size B: {average_order_size_B}\")\n",
    "print(f\"T-Statistic: {t_stat}\")\n",
    "print(f\"P-Value: {p_value}\")"
   ]
  },
  {
   "cell_type": "markdown",
   "metadata": {},
   "source": [
    "**Observaciones sobre la Significancia Estadística de la Diferencia en el Tamaño Promedio de Pedido entre los Grupos (Datos en Bruto)**\n",
    "1. **Tamaño Promedio de Pedido del Grupo A:** El tamaño promedio de pedido para el grupo A es aproximadamente 113.70.\n",
    "\n",
    "2. **Tamaño Promedio de Pedido del Grupo B:** El tamaño promedio de pedido para el grupo B es aproximadamente 145.35.\n",
    "\n",
    "3. **Prueba T:** El valor T obtenido es -0.83. Un valor T negativo indica que el tamaño promedio de pedido del grupo A es menor que el del grupo B, pero no es una diferencia significativa.\n",
    "\n",
    "4. **Valor P:** El valor P obtenido es 0.4043. Dado que este valor es mayor que el nivel de significancia comúnmente utilizado (0.05), no podemos rechazar la hipótesis nula de que no hay diferencia en los tamaños promedio de pedido entre los dos grupos.\n",
    "\n",
    "**Conclusión**\n",
    "\n",
    "No hay una diferencia estadísticamente significativa en los tamaños promedio de pedido entre los grupos A y B cuando se usan los datos en bruto. Aunque el grupo B tiene un tamaño promedio de pedido mayor, esta diferencia no es estadísticamente significativa."
   ]
  },
  {
   "cell_type": "markdown",
   "metadata": {},
   "source": [
    "<div class=\"alert alert-block alert-success\">\n",
    "<b>Comentario del revisor #2</b> <a class=\"tocSkip\"></a>\n",
    "    \n",
    "Buen trabajo con el desarrollo de la prueba.  </div>"
   ]
  },
  {
   "cell_type": "markdown",
   "metadata": {},
   "source": [
    "### Significancia Estadística de la Diferencia en la Conversión entre los Grupos (Datos Filtrados)"
   ]
  },
  {
   "cell_type": "code",
   "execution_count": 23,
   "metadata": {},
   "outputs": [
    {
     "name": "stdout",
     "output_type": "stream",
     "text": [
      "       count      mean       std       min      25%       50%       75%  \\\n",
      "group                                                                     \n",
      "A       31.0  0.025890  0.010295  0.011445  0.01761  0.023129  0.031961   \n",
      "B       30.0  0.029451  0.009492  0.009498  0.02371  0.031013  0.035084   \n",
      "\n",
      "            max  \n",
      "group            \n",
      "A      0.049861  \n",
      "B      0.047794  \n",
      "Filtered successes: [468, 526]\n",
      "Filtered samples: [18736, 18547]\n",
      "Filtered Conversion Rate A: 0.025890306958716493\n",
      "Filtered Conversion Rate B: 0.029450783025177407\n",
      "Filtered Z-Score: -2.0266981323624025\n",
      "Filtered P-Value: 0.042693293601747645\n"
     ]
    }
   ],
   "source": [
    "# Calcular percentiles para conversion_rate antes de filtrar\n",
    "percentile_99_conversion = daily_data['conversion_rate'].quantile(0.99)\n",
    "\n",
    "# Filtrar datos que estén por debajo del percentil 99\n",
    "filtered_data = daily_data[(daily_data['conversion_rate'] <= percentile_99_conversion)]\n",
    "\n",
    "# Verificar los datos filtrados\n",
    "print(filtered_data.groupby('group')['conversion_rate'].describe())\n",
    "\n",
    "# Calcular conversion rates filtrados\n",
    "filtered_conversion_rate_A = filtered_data[filtered_data['group'] == 'A']['conversion_rate'].mean()\n",
    "filtered_conversion_rate_B = filtered_data[filtered_data['group'] == 'B']['conversion_rate'].mean()\n",
    "\n",
    "# Calcular el número de éxitos y muestras filtrados\n",
    "filtered_successes = [filtered_data[filtered_data['group'] == 'A']['orders'].sum(), filtered_data[filtered_data['group'] == 'B']['orders'].sum()]\n",
    "filtered_samples = [filtered_data[filtered_data['group'] == 'A']['visits'].sum(), filtered_data[filtered_data['group'] == 'B']['visits'].sum()]\n",
    "\n",
    "# Verificar los éxitos y muestras\n",
    "print(f\"Filtered successes: {filtered_successes}\")\n",
    "print(f\"Filtered samples: {filtered_samples}\")\n",
    "\n",
    "# Prueba Z para proporciones filtradas\n",
    "filtered_z_score, filtered_p_value = sm.stats.proportions_ztest(filtered_successes, filtered_samples)\n",
    "print(f\"Filtered Conversion Rate A: {filtered_conversion_rate_A}\")\n",
    "print(f\"Filtered Conversion Rate B: {filtered_conversion_rate_B}\")\n",
    "print(f\"Filtered Z-Score: {filtered_z_score}\")\n",
    "print(f\"Filtered P-Value: {filtered_p_value}\")"
   ]
  },
  {
   "cell_type": "markdown",
   "metadata": {},
   "source": [
    "**Conclusiones sobre la Significancia Estadística de la Diferencia en la Conversión entre los Grupos (Datos Filtrados)**\n",
    "\n",
    "1. **Tasas de Conversión Filtradas:**\n",
    "\n",
    "    * La tasa de conversión filtrada para el grupo A es aproximadamente 2.59%.\n",
    "    * La tasa de conversión filtrada para el grupo B es aproximadamente 2.95%.\n",
    "    \n",
    "\n",
    "2. **Estadísticas Descriptivas:**\n",
    "\n",
    "    * **Grupo A:**\n",
    "        * Media: 0.025890\n",
    "        * Desviación estándar: 0.010295\n",
    "        * Mínimo: 0.011445\n",
    "        * Percentil 25: 0.01761\n",
    "        * Mediana (Percentil 50): 0.023129\n",
    "        * Percentil 75: 0.031961\n",
    "        * Máximo: 0.049861\n",
    "    * **Grupo B:**\n",
    "        * Media: 0.029451\n",
    "        * Desviación estándar: 0.009492\n",
    "        * Mínimo: 0.009498\n",
    "        * Percentil 25: 0.02371\n",
    "        * Mediana (Percentil 50): 0.031013\n",
    "        * Percentil 75: 0.035084\n",
    "        * Máximo: 0.047794\n",
    "\n",
    "\n",
    "3. **Prueba Z Filtrada:**\n",
    "\n",
    "    * El valor Z obtenido es -2.0266981323624025. Un valor Z negativo indica que la tasa de conversión del grupo A es menor que la del grupo B.\n",
    "    * El valor P obtenido es 0.042693293601747645. Dado que este valor es menor que el nivel de significancia comúnmente utilizado (0.05), podemos rechazar la hipótesis nula de que no hay diferencia en las tasas de conversión entre los dos grupos.\n",
    "\n",
    "**Conclusión General**\n",
    "\n",
    "* **Diferencia Estadísticamente Significativa:** Existe una diferencia estadísticamente significativa en las tasas de conversión entre los grupos A y B cuando se usan los datos filtrados. La tasa de conversión del grupo B es significativamente mayor que la del grupo A.\n",
    "* **Impacto Positivo de las Estrategias del Grupo B:** Las estrategias aplicadas al grupo B están teniendo un efecto positivo en la conversión.\n",
    "* **Consistencia de las Tasas de Conversión:** Las estadísticas descriptivas muestran que el grupo B tiene una tasa de conversión media más alta y una desviación estándar ligeramente menor, lo que indica una mayor consistencia en sus tasas de conversión en comparación con el grupo A.\n",
    "\n",
    "En resumen, los resultados del análisis filtrado indican que las estrategias implementadas en el grupo B son más efectivas para mejorar la tasa de conversión en comparación con el grupo A."
   ]
  },
  {
   "cell_type": "markdown",
   "metadata": {},
   "source": [
    "<div class=\"alert alert-block alert-success\">\n",
    "<b>Comentario del revisor #2</b> <a class=\"tocSkip\"></a>\n",
    "    \n",
    "Buen trabajo con el desarrollo de la prueba.  </div>"
   ]
  },
  {
   "cell_type": "markdown",
   "metadata": {},
   "source": [
    "### Significancia Estadística de la Diferencia en el Tamaño Promedio de Pedido entre los Grupos (Datos Filtrados)"
   ]
  },
  {
   "cell_type": "code",
   "execution_count": 24,
   "metadata": {},
   "outputs": [
    {
     "name": "stdout",
     "output_type": "stream",
     "text": [
      "       count        mean         std  min   25%   50%      75%    max\n",
      "group                                                                \n",
      "A      463.0  103.163067  137.645141  5.0  20.3  50.1  128.000  830.3\n",
      "B      544.0   99.943566  131.020720  5.1  20.8  45.7  120.225  830.3\n",
      "Filtered Average Order Size A: 103.16306695464363\n",
      "Filtered Average Order Size B: 99.9435661764706\n",
      "Filtered T-Statistic: 0.37817269109847645\n",
      "Filtered P-Value: 0.7053857108372917\n"
     ]
    }
   ],
   "source": [
    "# Filtrar datos que estén por debajo del percentil 99\n",
    "filtered_orders = orders_filtered[orders_filtered['revenue'] <= percentile_99_price]\n",
    "\n",
    "# Verificar los datos filtrados\n",
    "print(filtered_orders.groupby('group')['revenue'].describe())\n",
    "\n",
    "# Calcular tamaños promedio de pedido filtrados\n",
    "filtered_average_order_size_A = filtered_orders[filtered_orders['group'] == 'A']['revenue'].mean()\n",
    "filtered_average_order_size_B = filtered_orders[filtered_orders['group'] == 'B']['revenue'].mean()\n",
    "\n",
    "# Verificar los tamaños promedio de pedido filtrados\n",
    "print(f\"Filtered Average Order Size A: {filtered_average_order_size_A}\")\n",
    "print(f\"Filtered Average Order Size B: {filtered_average_order_size_B}\")\n",
    "\n",
    "# Prueba t para tamaños promedio de pedido filtrados\n",
    "filtered_t_stat, filtered_p_value = stats.ttest_ind(filtered_orders[filtered_orders['group'] == 'A']['revenue'], filtered_orders[filtered_orders['group'] == 'B']['revenue'], equal_var=False)\n",
    "print(f\"Filtered T-Statistic: {filtered_t_stat}\")\n",
    "print(f\"Filtered P-Value: {filtered_p_value}\")\n"
   ]
  },
  {
   "cell_type": "markdown",
   "metadata": {},
   "source": [
    "**Conclusiones sobre la Significancia Estadística de la Diferencia en el Tamaño Promedio de Pedido entre los Grupos (Datos Filtrados)**\n",
    "\n",
    "1. **Tamaños Promedios Filtrados:**\n",
    "\n",
    "    * El tamaño promedio de pedido filtrado para el grupo A es aproximadamente 103.16.\n",
    "    * El tamaño promedio de pedido filtrado para el grupo B es aproximadamente 99.94.\n",
    "\n",
    "\n",
    "2. **Estadísticas Descriptivas:**\n",
    "\n",
    "    * **Grupo A:**\n",
    "        * Cuenta: 463\n",
    "        * Media: 103.16\n",
    "        * Desviación Estándar: 137.65\n",
    "        * Mínimo: 5.0\n",
    "        * Percentil 25: 20.3\n",
    "        * Mediana (Percentil 50): 50.1\n",
    "        * Percentil 75: 128.0\n",
    "        * Máximo: 830.3\n",
    "    * **Grupo B:**\n",
    "        * Cuenta: 544\n",
    "        * Media: 99.94\n",
    "        * Desviación Estándar: 131.02\n",
    "        * Mínimo: 5.1\n",
    "        * Percentil 25: 20.8\n",
    "        * Mediana (Percentil 50): 45.7\n",
    "        * Percentil 75: 120.225\n",
    "        * Máximo: 830.3\n",
    "\n",
    "3. **Prueba T Filtrada:**\n",
    "\n",
    "    * El valor T obtenido es 0.378. Un valor T positivo indica que el tamaño promedio de pedido del grupo A es ligeramente mayor que el del grupo B, pero no es una diferencia significativa.\n",
    "    * El valor P obtenido es 0.705. Dado que este valor es mucho mayor que el nivel de significancia comúnmente utilizado (0.05), no podemos rechazar la hipótesis nula de que no hay diferencia en los tamaños promedio de pedido entre los dos grupos.\n",
    "\n",
    "**Conclusión General**\n",
    "\n",
    "* **No hay Diferencia Estadísticamente Significativa:** No existe una diferencia estadísticamente significativa en los tamaños promedio de pedido entre los grupos A y B cuando se usan los datos filtrados.\n",
    "* **Consistencia en los Resultados:** Las estadísticas descriptivas muestran que ambos grupos tienen tamaños de pedido promedio y desviaciones estándar similares, lo que indica una distribución de tamaño de pedido comparable entre los dos grupos.\n",
    "* **Tamaños de Pedido Similares:** Aunque el grupo A tiene un tamaño promedio de pedido ligeramente mayor que el grupo B, esta diferencia no es estadísticamente significativa.\n",
    "\n",
    "En resumen, los resultados del análisis filtrado indican que no hay una diferencia significativa en el tamaño promedio de pedido entre los grupos A y B, lo que sugiere que las estrategias implementadas en ambos grupos tienen un efecto similar en el tamaño de pedido."
   ]
  },
  {
   "cell_type": "markdown",
   "metadata": {},
   "source": [
    "<div class=\"alert alert-block alert-success\">\n",
    "<b>Comentario del revisor #2</b> <a class=\"tocSkip\"></a>\n",
    "    \n",
    "Buen trabajo con el desarrollo de la prueba.  </div>"
   ]
  },
  {
   "cell_type": "markdown",
   "metadata": {},
   "source": [
    "### Tomar una Decisión Basada en los Resultados de la Prueba"
   ]
  },
  {
   "cell_type": "markdown",
   "metadata": {},
   "source": [
    "Las posibles decisiones basadas en los resultados del test A/B son:\n",
    "\n",
    "1. Para la prueba, considera a uno de los grupos como líder.\n",
    "2. Para la prueba, concluye que no hay diferencia entre los grupos.\n",
    "3. Continúa la prueba."
   ]
  },
  {
   "cell_type": "code",
   "execution_count": 26,
   "metadata": {},
   "outputs": [
    {
     "name": "stdout",
     "output_type": "stream",
     "text": [
      "Decisión: Para la prueba, considera a uno de los grupos como líder.\n"
     ]
    }
   ],
   "source": [
    "# Decisión basada en los resultados\n",
    "if filtered_p_value < 0.05:\n",
    "    if filtered_conversion_rate_B > filtered_conversion_rate_A:\n",
    "        decision = \"Continúa la prueba.\"\n",
    "    else:\n",
    "        decision = \"Para la prueba, concluye que no hay diferencia entre los grupos.\"\n",
    "else:\n",
    "    decision = \"Para la prueba, considera a uno de los grupos como líder.\"\n",
    "\n",
    "print(f\"Decisión: {decision}\")"
   ]
  },
  {
   "cell_type": "markdown",
   "metadata": {},
   "source": [
    "**Resumen conclusiones Basadas en el Análisis de los Puntos 2.1 a 2.12**\n",
    "\n",
    "**2.1 Ingreso Acumulado:**\n",
    "\n",
    "* El grupo B generó consistentemente mayores ingresos acumulados en comparación con el grupo A a lo largo del período de prueba. Esto sugiere que las estrategias aplicadas al grupo B tuvieron un impacto positivo en los ingresos.\n",
    "\n",
    "**2.2 Tamaño de Pedido Promedio Acumulado:**\n",
    "\n",
    "* Aunque ambos grupos mostraron fluctuaciones en el tamaño de pedido promedio acumulado, el grupo B tuvo un tamaño promedio generalmente mayor y más consistente después de un pico significativo el 19 de agosto.\n",
    "\n",
    "**2.3 Diferencia Relativa en el Tamaño de Pedido Promedio:**\n",
    "\n",
    "* La diferencia relativa en el tamaño de pedido promedio mostró que el grupo B tuvo tamaños de pedido mayores que el grupo A en varios puntos del tiempo. Después del pico significativo, la diferencia se estabilizó a favor del grupo B.\n",
    "\n",
    "**2.4 Tasa de Conversión Diaria:**\n",
    "\n",
    "* Las tasas de conversión diarias fluctuaron significativamente para ambos grupos. Sin embargo, el grupo B mostró algunos picos más altos en comparación con el grupo A, indicando una mayor efectividad en ciertos momentos.\n",
    "\n",
    "**2.5 Gráfico de Dispersión del Número de Pedidos por Usuario:**\n",
    "\n",
    "* La mayoría de los usuarios realizaron solo un pedido, pero hubo varios usuarios que realizaron hasta tres pedidos. Estos usuarios frecuentes pueden haber contribuido significativamente a los ingresos y conversiones del grupo B.\n",
    "\n",
    "**2.6 Percentiles para el Número de Pedidos por Usuario:**\n",
    "\n",
    "* Los percentiles 95 y 99 mostraron que la mayoría de los usuarios realizaron uno o dos pedidos. Esto refuerza la observación de que los pedidos repetidos son menos comunes pero importantes.\n",
    "\n",
    "**2.7 Gráfico de Dispersión de los Precios de los Pedidos:**\n",
    "\n",
    "* La mayoría de los pedidos se agruparon en un rango de precios más bajo, con algunos pedidos de alto valor que podrían haber influido en los ingresos acumulados del grupo B.\n",
    "\n",
    "**2.8 Percentiles para los Precios de los Pedidos:**\n",
    "\n",
    "* Los percentiles 95 y 99 indicaron que la mayoría de los pedidos tenían precios menores a 414.275 y 830.3 respectivamente. Esto sugiere que los pedidos de alto valor son relativamente raros pero influyentes.\n",
    "\n",
    "**2.9 Significancia Estadística de la Conversión (Datos en Bruto):**\n",
    "\n",
    "* La tasa de conversión del grupo B fue significativamente mayor que la del grupo A (Z-Score: -2.3899, P-Value: 0.01685). Esto indica que el grupo B tuvo una mejor efectividad en la conversión de visitas a pedidos.\n",
    "\n",
    "**2.10 Significancia Estadística del Tamaño Promedio de Pedido (Datos en Bruto):**\n",
    "\n",
    "* No hubo una diferencia estadísticamente significativa en el tamaño promedio de pedido entre los grupos A y B (T-Statistic: -0.8345, P-Value: 0.4043). Aunque el grupo B tuvo un tamaño promedio mayor, esta diferencia no fue significativa.\n",
    "\n",
    "**2.11 Significancia Estadística de la Conversión (Datos Filtrados):**\n",
    "\n",
    "* La tasa de conversión del grupo B siguió siendo significativamente mayor que la del grupo A después de eliminar las anomalías (Z-Score: -2.0267, P-Value: 0.04269).\n",
    "\n",
    "**2.12 Significancia Estadística del Tamaño Promedio de Pedido (Datos Filtrados):**\n",
    "    \n",
    "* No hubo una diferencia estadísticamente significativa en el tamaño promedio de pedido entre los grupos A y B después de eliminar las anomalías (T-Statistic: 0.3782, P-Value: 0.7054).\n",
    "\n",
    "**Conclusión Final**\n",
    "\n",
    "**Basado en los resultados obtenidos de los análisis anteriores, el grupo B se considera el líder en esta prueba A/B.**\n",
    "\n",
    "* **Ingresos Acumulados:** El grupo B tuvo consistentemente mayores ingresos acumulados.\n",
    "* **Tasa de Conversión:** El grupo B mostró una tasa de conversión significativamente mayor, tanto en los datos brutos como en los filtrados.\n",
    "* **Tamaño Promedio de Pedido:** Aunque el tamaño promedio de pedido del grupo B fue mayor, la diferencia no fue estadísticamente significativa.\n"
   ]
  },
  {
   "cell_type": "markdown",
   "metadata": {},
   "source": [
    "## Conclusión General del Proyecto:\n",
    "\n",
    "En este proyecto, se realizó un análisis detallado de varias hipótesis para aumentar los ingresos de una gran tienda en línea y se llevó a cabo un test A/B para evaluar su impacto. La primera parte del proyecto se centró en priorizar las hipótesis utilizando los frameworks ICE y RICE, lo que permitió identificar cuáles de ellas tenían el mayor potencial para incrementar los ingresos. En la segunda parte, se analizó el test A/B a través de diferentes métricas y visualizaciones, incluyendo ingresos acumulados, tamaño promedio de pedido, tasas de conversión y análisis de anomalías."
   ]
  },
  {
   "cell_type": "markdown",
   "metadata": {},
   "source": [
    "## Recomendaciones al Cliente:\n",
    "\n",
    "* **Implementar las estrategias del Grupo B:** Los resultados mostraron que el Grupo B tuvo una tasa de conversión significativamente mayor y mayores ingresos acumulados en comparación con el `Grupo A`. Se recomienda implementar las estrategias que se aplicaron al `Grupo B para toda la tienda.`\n",
    "\n",
    "* **Monitoreo Continuo:** Es crucial seguir monitoreando las métricas clave para asegurarse de que las mejoras observadas durante el test A/B se mantengan a largo plazo.\n",
    "\n",
    "* **Investigar Anomalías:** Las anomalías identificadas en los gráficos de dispersión deben ser investigadas más a fondo para entender sus causas y tomar acciones correctivas si es necesario.\n",
    "\n",
    "En resumen, el análisis demostró que las estrategias aplicadas al `Grupo B fueron más efectivas`, y la tienda debería considerar implementarlas a nivel general para maximizar sus ingresos y mejorar la experiencia del usuario."
   ]
  },
  {
   "cell_type": "markdown",
   "metadata": {},
   "source": [
    "<div class=\"alert alert-block alert-success\">\n",
    "<b>Comentario del revisor #2</b> <a class=\"tocSkip\"></a>\n",
    "    \n",
    "Muy buen trabajo Bastian. </div>"
   ]
  }
 ],
 "metadata": {
  "ExecuteTimeLog": [
   {
    "duration": 13,
    "start_time": "2024-05-16T16:40:39.416Z"
   },
   {
    "duration": 5482,
    "start_time": "2024-05-16T16:40:55.008Z"
   },
   {
    "duration": 30,
    "start_time": "2024-05-16T16:41:00.495Z"
   },
   {
    "duration": 35,
    "start_time": "2024-05-16T16:41:00.528Z"
   },
   {
    "duration": 95,
    "start_time": "2024-05-16T16:41:00.566Z"
   },
   {
    "duration": 73,
    "start_time": "2024-05-16T16:41:00.667Z"
   },
   {
    "duration": 5,
    "start_time": "2024-05-16T16:41:00.743Z"
   },
   {
    "duration": 17,
    "start_time": "2024-05-16T16:41:00.752Z"
   },
   {
    "duration": 58,
    "start_time": "2024-05-16T16:41:00.774Z"
   },
   {
    "duration": 23,
    "start_time": "2024-05-16T16:41:00.836Z"
   },
   {
    "duration": 589,
    "start_time": "2024-05-16T16:41:00.862Z"
   },
   {
    "duration": 575,
    "start_time": "2024-05-16T16:41:01.454Z"
   },
   {
    "duration": 602,
    "start_time": "2024-05-16T16:41:02.032Z"
   },
   {
    "duration": 531,
    "start_time": "2024-05-16T16:41:02.638Z"
   },
   {
    "duration": 325,
    "start_time": "2024-05-16T16:41:03.175Z"
   },
   {
    "duration": 23,
    "start_time": "2024-05-16T16:41:03.503Z"
   },
   {
    "duration": 348,
    "start_time": "2024-05-16T16:41:03.529Z"
   },
   {
    "duration": 15,
    "start_time": "2024-05-16T16:41:03.881Z"
   },
   {
    "duration": 36,
    "start_time": "2024-05-16T16:41:03.900Z"
   },
   {
    "duration": 15,
    "start_time": "2024-05-16T16:41:03.939Z"
   },
   {
    "duration": 16,
    "start_time": "2024-05-16T16:41:03.957Z"
   },
   {
    "duration": 57,
    "start_time": "2024-05-16T16:41:03.977Z"
   },
   {
    "duration": 324,
    "start_time": "2024-05-16T18:52:00.056Z"
   },
   {
    "duration": 5482,
    "start_time": "2024-05-16T18:52:50.454Z"
   },
   {
    "duration": 30,
    "start_time": "2024-05-16T18:52:55.941Z"
   },
   {
    "duration": 52,
    "start_time": "2024-05-16T18:52:55.974Z"
   },
   {
    "duration": 53,
    "start_time": "2024-05-16T18:52:56.030Z"
   },
   {
    "duration": 76,
    "start_time": "2024-05-16T18:52:56.088Z"
   },
   {
    "duration": 5,
    "start_time": "2024-05-16T18:52:56.167Z"
   },
   {
    "duration": 52,
    "start_time": "2024-05-16T18:52:56.176Z"
   },
   {
    "duration": 18,
    "start_time": "2024-05-16T18:52:56.230Z"
   },
   {
    "duration": 22,
    "start_time": "2024-05-16T18:52:56.252Z"
   },
   {
    "duration": 1461,
    "start_time": "2024-05-16T18:52:56.277Z"
   },
   {
    "duration": 0,
    "start_time": "2024-05-16T18:52:57.744Z"
   },
   {
    "duration": 0,
    "start_time": "2024-05-16T18:52:57.747Z"
   },
   {
    "duration": 0,
    "start_time": "2024-05-16T18:52:57.749Z"
   },
   {
    "duration": 0,
    "start_time": "2024-05-16T18:52:57.752Z"
   },
   {
    "duration": 0,
    "start_time": "2024-05-16T18:52:57.755Z"
   },
   {
    "duration": 0,
    "start_time": "2024-05-16T18:52:57.759Z"
   },
   {
    "duration": 0,
    "start_time": "2024-05-16T18:52:57.761Z"
   },
   {
    "duration": 0,
    "start_time": "2024-05-16T18:52:57.764Z"
   },
   {
    "duration": 0,
    "start_time": "2024-05-16T18:52:57.767Z"
   },
   {
    "duration": 0,
    "start_time": "2024-05-16T18:52:57.769Z"
   },
   {
    "duration": 0,
    "start_time": "2024-05-16T18:52:57.771Z"
   },
   {
    "duration": 0,
    "start_time": "2024-05-16T18:52:57.775Z"
   },
   {
    "duration": 11,
    "start_time": "2024-05-16T18:55:17.722Z"
   },
   {
    "duration": 1775,
    "start_time": "2024-05-16T18:55:27.394Z"
   },
   {
    "duration": 18,
    "start_time": "2024-05-16T18:55:29.173Z"
   },
   {
    "duration": 51,
    "start_time": "2024-05-16T18:55:29.194Z"
   },
   {
    "duration": 91,
    "start_time": "2024-05-16T18:55:29.249Z"
   },
   {
    "duration": 47,
    "start_time": "2024-05-16T18:55:29.344Z"
   },
   {
    "duration": 34,
    "start_time": "2024-05-16T18:55:29.394Z"
   },
   {
    "duration": 17,
    "start_time": "2024-05-16T18:55:29.432Z"
   },
   {
    "duration": 18,
    "start_time": "2024-05-16T18:55:29.452Z"
   },
   {
    "duration": 64,
    "start_time": "2024-05-16T18:55:29.473Z"
   },
   {
    "duration": 11,
    "start_time": "2024-05-16T18:55:29.543Z"
   },
   {
    "duration": 582,
    "start_time": "2024-05-16T18:55:29.557Z"
   },
   {
    "duration": 523,
    "start_time": "2024-05-16T18:55:30.142Z"
   },
   {
    "duration": 728,
    "start_time": "2024-05-16T18:55:30.670Z"
   },
   {
    "duration": 585,
    "start_time": "2024-05-16T18:55:31.402Z"
   },
   {
    "duration": 370,
    "start_time": "2024-05-16T18:55:31.992Z"
   },
   {
    "duration": 12,
    "start_time": "2024-05-16T18:55:32.365Z"
   },
   {
    "duration": 339,
    "start_time": "2024-05-16T18:55:32.382Z"
   },
   {
    "duration": 14,
    "start_time": "2024-05-16T18:55:32.724Z"
   },
   {
    "duration": 15,
    "start_time": "2024-05-16T18:55:32.741Z"
   },
   {
    "duration": 15,
    "start_time": "2024-05-16T18:55:32.759Z"
   },
   {
    "duration": 14,
    "start_time": "2024-05-16T18:55:32.826Z"
   },
   {
    "duration": 14,
    "start_time": "2024-05-16T18:55:32.843Z"
   },
   {
    "duration": 1341,
    "start_time": "2024-05-16T19:06:49.835Z"
   },
   {
    "duration": 405,
    "start_time": "2024-05-16T19:07:08.112Z"
   },
   {
    "duration": 1627,
    "start_time": "2024-05-16T19:07:25.457Z"
   },
   {
    "duration": 22,
    "start_time": "2024-05-16T19:07:27.089Z"
   },
   {
    "duration": 43,
    "start_time": "2024-05-16T19:07:27.114Z"
   },
   {
    "duration": 96,
    "start_time": "2024-05-16T19:07:27.162Z"
   },
   {
    "duration": 71,
    "start_time": "2024-05-16T19:07:27.265Z"
   },
   {
    "duration": 5,
    "start_time": "2024-05-16T19:07:27.340Z"
   },
   {
    "duration": 17,
    "start_time": "2024-05-16T19:07:27.349Z"
   },
   {
    "duration": 62,
    "start_time": "2024-05-16T19:07:27.370Z"
   },
   {
    "duration": 25,
    "start_time": "2024-05-16T19:07:27.435Z"
   },
   {
    "duration": 15,
    "start_time": "2024-05-16T19:07:27.464Z"
   },
   {
    "duration": 1438,
    "start_time": "2024-05-16T19:07:27.482Z"
   },
   {
    "duration": 0,
    "start_time": "2024-05-16T19:07:28.928Z"
   },
   {
    "duration": 0,
    "start_time": "2024-05-16T19:07:28.931Z"
   },
   {
    "duration": 0,
    "start_time": "2024-05-16T19:07:28.933Z"
   },
   {
    "duration": 0,
    "start_time": "2024-05-16T19:07:28.936Z"
   },
   {
    "duration": 0,
    "start_time": "2024-05-16T19:07:28.939Z"
   },
   {
    "duration": 0,
    "start_time": "2024-05-16T19:07:28.941Z"
   },
   {
    "duration": 0,
    "start_time": "2024-05-16T19:07:28.944Z"
   },
   {
    "duration": 0,
    "start_time": "2024-05-16T19:07:28.947Z"
   },
   {
    "duration": 0,
    "start_time": "2024-05-16T19:07:28.949Z"
   },
   {
    "duration": 0,
    "start_time": "2024-05-16T19:07:28.952Z"
   },
   {
    "duration": 0,
    "start_time": "2024-05-16T19:07:28.954Z"
   },
   {
    "duration": 55,
    "start_time": "2024-05-16T19:08:46.740Z"
   },
   {
    "duration": 12,
    "start_time": "2024-05-16T19:10:16.019Z"
   },
   {
    "duration": 385,
    "start_time": "2024-05-16T19:10:40.045Z"
   },
   {
    "duration": 1645,
    "start_time": "2024-05-16T19:11:19.671Z"
   },
   {
    "duration": 20,
    "start_time": "2024-05-16T19:11:21.325Z"
   },
   {
    "duration": 36,
    "start_time": "2024-05-16T19:11:21.349Z"
   },
   {
    "duration": 89,
    "start_time": "2024-05-16T19:11:21.390Z"
   },
   {
    "duration": 78,
    "start_time": "2024-05-16T19:11:21.483Z"
   },
   {
    "duration": 6,
    "start_time": "2024-05-16T19:11:21.564Z"
   },
   {
    "duration": 53,
    "start_time": "2024-05-16T19:11:21.574Z"
   },
   {
    "duration": 19,
    "start_time": "2024-05-16T19:11:21.630Z"
   },
   {
    "duration": 23,
    "start_time": "2024-05-16T19:11:21.653Z"
   },
   {
    "duration": 51,
    "start_time": "2024-05-16T19:11:21.683Z"
   },
   {
    "duration": 1373,
    "start_time": "2024-05-16T19:11:21.738Z"
   },
   {
    "duration": 0,
    "start_time": "2024-05-16T19:11:23.115Z"
   },
   {
    "duration": 0,
    "start_time": "2024-05-16T19:11:23.126Z"
   },
   {
    "duration": 0,
    "start_time": "2024-05-16T19:11:23.128Z"
   },
   {
    "duration": 0,
    "start_time": "2024-05-16T19:11:23.131Z"
   },
   {
    "duration": 0,
    "start_time": "2024-05-16T19:11:23.132Z"
   },
   {
    "duration": 0,
    "start_time": "2024-05-16T19:11:23.135Z"
   },
   {
    "duration": 0,
    "start_time": "2024-05-16T19:11:23.137Z"
   },
   {
    "duration": 0,
    "start_time": "2024-05-16T19:11:23.140Z"
   },
   {
    "duration": 0,
    "start_time": "2024-05-16T19:11:23.142Z"
   },
   {
    "duration": 0,
    "start_time": "2024-05-16T19:11:23.144Z"
   },
   {
    "duration": 1,
    "start_time": "2024-05-16T19:11:23.146Z"
   },
   {
    "duration": 368,
    "start_time": "2024-05-16T19:12:26.752Z"
   },
   {
    "duration": 13,
    "start_time": "2024-05-16T19:13:20.078Z"
   },
   {
    "duration": 399,
    "start_time": "2024-05-16T19:13:29.706Z"
   },
   {
    "duration": 12,
    "start_time": "2024-05-16T19:23:41.551Z"
   },
   {
    "duration": 967,
    "start_time": "2024-05-16T19:23:50.084Z"
   },
   {
    "duration": 475,
    "start_time": "2024-05-16T19:24:18.431Z"
   },
   {
    "duration": 521,
    "start_time": "2024-05-16T19:24:31.866Z"
   },
   {
    "duration": 469,
    "start_time": "2024-05-16T19:24:42.587Z"
   },
   {
    "duration": 302,
    "start_time": "2024-05-16T19:24:52.885Z"
   },
   {
    "duration": 10,
    "start_time": "2024-05-16T19:25:00.689Z"
   },
   {
    "duration": 300,
    "start_time": "2024-05-16T19:25:09.363Z"
   },
   {
    "duration": 9,
    "start_time": "2024-05-16T19:25:18.461Z"
   },
   {
    "duration": 44,
    "start_time": "2024-05-16T19:25:36.511Z"
   },
   {
    "duration": 1679,
    "start_time": "2024-05-16T19:25:51.802Z"
   },
   {
    "duration": 23,
    "start_time": "2024-05-16T19:25:53.485Z"
   },
   {
    "duration": 42,
    "start_time": "2024-05-16T19:25:53.511Z"
   },
   {
    "duration": 91,
    "start_time": "2024-05-16T19:25:53.557Z"
   },
   {
    "duration": 71,
    "start_time": "2024-05-16T19:25:53.655Z"
   },
   {
    "duration": 8,
    "start_time": "2024-05-16T19:25:53.730Z"
   },
   {
    "duration": 18,
    "start_time": "2024-05-16T19:25:53.742Z"
   },
   {
    "duration": 22,
    "start_time": "2024-05-16T19:25:53.763Z"
   },
   {
    "duration": 26,
    "start_time": "2024-05-16T19:25:53.828Z"
   },
   {
    "duration": 12,
    "start_time": "2024-05-16T19:25:53.857Z"
   },
   {
    "duration": 995,
    "start_time": "2024-05-16T19:25:53.872Z"
   },
   {
    "duration": 440,
    "start_time": "2024-05-16T19:25:54.871Z"
   },
   {
    "duration": 567,
    "start_time": "2024-05-16T19:25:55.315Z"
   },
   {
    "duration": 511,
    "start_time": "2024-05-16T19:25:55.888Z"
   },
   {
    "duration": 316,
    "start_time": "2024-05-16T19:25:56.402Z"
   },
   {
    "duration": 10,
    "start_time": "2024-05-16T19:25:56.726Z"
   },
   {
    "duration": 315,
    "start_time": "2024-05-16T19:25:56.739Z"
   },
   {
    "duration": 9,
    "start_time": "2024-05-16T19:25:57.057Z"
   },
   {
    "duration": 615,
    "start_time": "2024-05-16T19:25:57.070Z"
   },
   {
    "duration": 0,
    "start_time": "2024-05-16T19:25:57.688Z"
   },
   {
    "duration": 0,
    "start_time": "2024-05-16T19:25:57.691Z"
   },
   {
    "duration": 0,
    "start_time": "2024-05-16T19:25:57.693Z"
   },
   {
    "duration": 38,
    "start_time": "2024-05-16T19:26:18.454Z"
   },
   {
    "duration": 23,
    "start_time": "2024-05-16T19:27:32.670Z"
   },
   {
    "duration": 15,
    "start_time": "2024-05-16T19:28:21.798Z"
   },
   {
    "duration": 20,
    "start_time": "2024-05-16T19:28:38.701Z"
   },
   {
    "duration": 14,
    "start_time": "2024-05-16T19:28:49.411Z"
   },
   {
    "duration": 18,
    "start_time": "2024-05-16T19:28:53.520Z"
   },
   {
    "duration": 18,
    "start_time": "2024-05-16T19:29:03.198Z"
   },
   {
    "duration": 1625,
    "start_time": "2024-05-16T19:29:50.947Z"
   },
   {
    "duration": 20,
    "start_time": "2024-05-16T19:29:52.577Z"
   },
   {
    "duration": 49,
    "start_time": "2024-05-16T19:29:52.600Z"
   },
   {
    "duration": 95,
    "start_time": "2024-05-16T19:29:52.653Z"
   },
   {
    "duration": 42,
    "start_time": "2024-05-16T19:29:52.752Z"
   },
   {
    "duration": 34,
    "start_time": "2024-05-16T19:29:52.796Z"
   },
   {
    "duration": 20,
    "start_time": "2024-05-16T19:29:52.834Z"
   },
   {
    "duration": 18,
    "start_time": "2024-05-16T19:29:52.857Z"
   },
   {
    "duration": 65,
    "start_time": "2024-05-16T19:29:52.878Z"
   },
   {
    "duration": 12,
    "start_time": "2024-05-16T19:29:52.951Z"
   },
   {
    "duration": 932,
    "start_time": "2024-05-16T19:29:52.967Z"
   },
   {
    "duration": 447,
    "start_time": "2024-05-16T19:29:53.902Z"
   },
   {
    "duration": 550,
    "start_time": "2024-05-16T19:29:54.352Z"
   },
   {
    "duration": 496,
    "start_time": "2024-05-16T19:29:54.906Z"
   },
   {
    "duration": 307,
    "start_time": "2024-05-16T19:29:55.405Z"
   },
   {
    "duration": 16,
    "start_time": "2024-05-16T19:29:55.715Z"
   },
   {
    "duration": 302,
    "start_time": "2024-05-16T19:29:55.734Z"
   },
   {
    "duration": 8,
    "start_time": "2024-05-16T19:29:56.040Z"
   },
   {
    "duration": 16,
    "start_time": "2024-05-16T19:29:56.052Z"
   },
   {
    "duration": 13,
    "start_time": "2024-05-16T19:29:56.072Z"
   },
   {
    "duration": 21,
    "start_time": "2024-05-16T19:29:56.127Z"
   },
   {
    "duration": 563,
    "start_time": "2024-05-16T19:29:56.152Z"
   },
   {
    "duration": 34,
    "start_time": "2024-05-16T19:30:35.388Z"
   },
   {
    "duration": 26,
    "start_time": "2024-05-16T19:31:00.842Z"
   },
   {
    "duration": 4,
    "start_time": "2024-05-16T19:31:26.003Z"
   },
   {
    "duration": 6,
    "start_time": "2024-05-16T19:31:47.840Z"
   }
  ],
  "kernelspec": {
   "display_name": "Python 3 (ipykernel)",
   "language": "python",
   "name": "python3"
  },
  "language_info": {
   "codemirror_mode": {
    "name": "ipython",
    "version": 3
   },
   "file_extension": ".py",
   "mimetype": "text/x-python",
   "name": "python",
   "nbconvert_exporter": "python",
   "pygments_lexer": "ipython3",
   "version": "3.9.19"
  },
  "toc": {
   "base_numbering": 1,
   "nav_menu": {},
   "number_sections": true,
   "sideBar": true,
   "skip_h1_title": true,
   "title_cell": "Table of Contents",
   "title_sidebar": "Contents",
   "toc_cell": false,
   "toc_position": {},
   "toc_section_display": true,
   "toc_window_display": false
  }
 },
 "nbformat": 4,
 "nbformat_minor": 2
}
